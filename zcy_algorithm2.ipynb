{
 "cells": [
  {
   "cell_type": "markdown",
   "metadata": {},
   "source": [
    "### 哈希"
   ]
  },
  {
   "cell_type": "markdown",
   "metadata": {},
   "source": [
    "#### 认识哈希函数和哈希表的实现\n",
    "输入域无穷，输出域相对有限<br>\n",
    "MD5 0 --- 2^64 - 1<br>\n",
    "SHA1 0 --- 2^128 - 1<br>\n",
    "md5返回长度为16的16进制字符串<br>\n",
    "sha1返回长度为32的16进制字符串<br>\n",
    "ea098d31f<br><br>\n",
    "1 in -> ∞ &ensp;&ensp; out -> S<br>\n",
    "2 same in -> same out 不随机<br>\n",
    "3 dif in -> same out(哈希碰撞)<br><br>\n",
    "散列值<br>\n",
    "输出是均匀并且离散的<br>\n",
    "做到了均匀性，也就做到了离散性<br>"
   ]
  },
  {
   "cell_type": "markdown",
   "metadata": {
    "ExecuteTime": {
     "end_time": "2023-01-31T01:38:49.942885Z",
     "start_time": "2023-01-31T01:38:49.892713Z"
    }
   },
   "source": [
    "![tu](zcy_algorithm_pictures2/Screenshot_20230107_170913_tv.danmaku.bili_edit_328582957219131.jpg)"
   ]
  },
  {
   "cell_type": "markdown",
   "metadata": {},
   "source": [
    "#### 求出现次数最多的数\n",
    "求40亿个无符号整数中，出现次数最多的数，只有1G内存。<br>\n",
    "0 ~ 2^32 -1  0 ~ 42亿+<br><br>\n",
    "哈希，key(int) 4B value(int) 4B，  8B * 40亿 = 320亿 B （32G）<br>\n",
    "![tu](zcy_algorithm_pictures2/Screenshot_20230108_153854_tv.danmaku.bili.jpg)\n",
    "![tu](zcy_algorithm_pictures2/Screenshot_20230108_154017_tv.danmaku.bili_edit_480178963306937.jpg)\n",
    "![tu](zcy_algorithm_pictures2/Screenshot_20230108_154200.jpg)"
   ]
  },
  {
   "cell_type": "markdown",
   "metadata": {},
   "source": [
    "#### 认识哈希函数和哈希表的实现"
   ]
  },
  {
   "cell_type": "markdown",
   "metadata": {},
   "source": [
    "![tu](zcy_algorithm_pictures2/Screenshot_20230108_154859_tv.danmaku.bili_edit_152937369640725.jpg)\n",
    "![tu](zcy_algorithm_pictures2/Screenshot_20230113_213138_tv.danmaku.bili_edit_153314301250042.jpg)\n",
    "![tu](zcy_algorithm_pictures2/Screenshot_20230113_214204_tv.danmaku.bili_edit_153472295966164.jpg)\n",
    "![tu](zcy_algorithm_pictures2/Screenshot_20230113_214440_tv.danmaku.bili_edit_153615789622913.jpg)\n",
    "![tu](zcy_algorithm_pictures2/微信截图_20230131112842.png)"
   ]
  },
  {
   "cell_type": "markdown",
   "metadata": {},
   "source": [
    "JVM：离线扩容，空闲的时候扩容<br>\n",
    "具体的语言会有改进，比如JAVA把单链表改成有序树<br>"
   ]
  },
  {
   "cell_type": "code",
   "execution_count": null,
   "metadata": {},
   "outputs": [],
   "source": []
  },
  {
   "cell_type": "markdown",
   "metadata": {},
   "source": [
    "#### 设计RandomPool结构"
   ]
  },
  {
   "cell_type": "markdown",
   "metadata": {
    "ExecuteTime": {
     "end_time": "2023-01-31T03:29:48.856241Z",
     "start_time": "2023-01-31T03:29:48.811142Z"
    }
   },
   "source": [
    "![tu](zcy_algorithm_pictures2/01.jpg)"
   ]
  },
  {
   "cell_type": "markdown",
   "metadata": {},
   "source": [
    "map1: (str -> index), map2: (index -> str)<br>\n",
    "最后一条来填要删的这个洞，然后删掉最后一条记录。<br>\n",
    "map1必须存在的理由是需要在插入时判断当前字符串是否已经插入。<br>\n",
    "因为getRandom要根据索引来获得元素，所以map2必须存在。<br>"
   ]
  },
  {
   "cell_type": "code",
   "execution_count": 12,
   "metadata": {
    "ExecuteTime": {
     "end_time": "2023-02-01T02:24:15.585039Z",
     "start_time": "2023-02-01T02:24:15.570029Z"
    }
   },
   "outputs": [
    {
     "name": "stdout",
     "output_type": "stream",
     "text": [
      "zuo\n"
     ]
    }
   ],
   "source": [
    "from random import randint\n",
    "\n",
    "class RandomPool:\n",
    "    def __init__(self):\n",
    "        self.key2index = {}\n",
    "        self.index2key = {}\n",
    "        self.size = 0\n",
    "        \n",
    "    def insert(self, k):\n",
    "        if k not in self.key2index:\n",
    "            self.key2index[k] = self.size\n",
    "            self.index2key[self.size] = k\n",
    "            self.size += 1\n",
    "            \n",
    "    def delet(self, k):\n",
    "        if k in self.key2index:\n",
    "            deletIndex = self.key2index[k]\n",
    "            lastIndex = self.size - 1\n",
    "            lastKey = self.index2key[lastIndex]\n",
    "            self.index2key[deletIndex] = lastKey\n",
    "            self.key2index[lastKey] = deletIndex\n",
    "            del self.key2index[k]\n",
    "            del self.index2key[lastIndex]\n",
    "            self.size -= 1\n",
    "            \n",
    "    def getRandom(self):\n",
    "        if self.size == 0:\n",
    "            return None\n",
    "        randomIndex = randint(0, self.size - 1)\n",
    "        return self.index2key[randomIndex]\n",
    "    \n",
    "pool = RandomPool()\n",
    "pool.insert('zuo')\n",
    "pool.insert('cheng')\n",
    "pool.insert('yun')\n",
    "print(pool.getRandom())"
   ]
  },
  {
   "cell_type": "markdown",
   "metadata": {},
   "source": [
    "#### 解释布隆过滤器\n",
    "相当于黑名单系统，或者爬虫去重的这么个东西<br>\n",
    "100亿url，每个url占64Byte，6400亿Byte 640G内存<br>\n",
    "两种类型的失误：<br>\n",
    "1）黑 ——> 白<br>\n",
    "2）白 ——> 黑<br>\n",
    "布隆过滤器不会有第一种类型的失误，即将黑名单里的，误报成不是。只会有第二种类型的失误。<br>\n",
    "通过认为设计，让第二种类型出现的概率很低，比如万分之一。<br>"
   ]
  },
  {
   "cell_type": "markdown",
   "metadata": {
    "ExecuteTime": {
     "end_time": "2023-02-01T03:15:19.454575Z",
     "start_time": "2023-02-01T03:15:19.400442Z"
    }
   },
   "source": [
    "![tu](zcy_algorithm_pictures2/Screenshot_20230114_160145_tv.danmaku.bili.jpg)\n"
   ]
  },
  {
   "cell_type": "code",
   "execution_count": null,
   "metadata": {},
   "outputs": [],
   "source": [
    "int[] arr = new int[10]  # 32bit * 10 -> 320 bits\n",
    "# arr[0] int 0 ~ 31\n",
    "# arr[1] int 32 ~ 63\n",
    "# arr[2] int 64 ~ 95\n",
    "\n",
    "int i = 178 // 想取得178个bit的状态\n",
    "\n",
    "int numIndex = i / 32\n",
    "int bitIndex = i % 32\n",
    "\n",
    "# 拿到178位的状态\n",
    "int s = (arr[numIndex] >> bitIndex) & 1\n",
    "\n",
    "# 请把1178位的状态改成1\n",
    "arr[numIndex] = arr[numIndex] | (1 << bitIndex)\n",
    "\n",
    "# 请把178位的状态改成0\n",
    "arr[numIndex] = arr[numIndex] & (~ (1 << bitIndex))\n"
   ]
  },
  {
   "cell_type": "markdown",
   "metadata": {},
   "source": [
    "![tu](zcy_algorithm_pictures2/Screenshot_20230114_161117_tv.danmaku.bili_edit_164769894548294.jpg)"
   ]
  },
  {
   "cell_type": "markdown",
   "metadata": {},
   "source": [
    "占用的内存m，bit arr<br>\n",
    "k个哈希函数是根据m和样本量来决定的，实际上就相当于采集指纹，在这个指纹上采集k个样本点。<br>\n",
    "如果m定的很小，100亿个，最后肯定全都是黑的了。<br>"
   ]
  },
  {
   "cell_type": "markdown",
   "metadata": {},
   "source": [
    "![tu](zcy_algorithm_pictures2/Screenshot_20230114_164626_tv.danmaku.bili_edit_166098300987675.jpg)"
   ]
  },
  {
   "cell_type": "markdown",
   "metadata": {},
   "source": [
    "1）模型类似于集合，没有删除行为<br>\n",
    "m是bit，除以8才是实际使用空间，差不多就是26G<br>\n",
    "k向上取整<br>\n",
    "\n",
    "![tu](zcy_algorithm_pictures2/Screenshot_20230114_170436_tv.danmaku.bili_edit_167234882998960.jpg)"
   ]
  },
  {
   "cell_type": "markdown",
   "metadata": {},
   "source": [
    "#### 详解一致性哈希原理\n",
    "用来讨论数据服务器如何组织"
   ]
  },
  {
   "cell_type": "markdown",
   "metadata": {},
   "source": [
    "![tu](zcy_algorithm_pictures2/Screenshot_20230114_184820_tv.danmaku.bili_edit_505347721969763.jpg)"
   ]
  },
  {
   "cell_type": "markdown",
   "metadata": {},
   "source": [
    "解决办法，用一致性哈希，他没有模这回事，不模任何东西。<br>\n",
    "经典结构的问题是，增加机器和减少机器时，数据迁移的代价是全量的。<br>"
   ]
  },
  {
   "cell_type": "markdown",
   "metadata": {},
   "source": [
    "![tu](zcy_algorithm_pictures2/Screenshot_20230114_232758_tv.danmaku.bili_edit_510427644918988.jpg)\n",
    "![tu](zcy_algorithm_pictures2/Screenshot_20230114_233110_tv.danmaku.bili_edit_175583705522165.jpg)"
   ]
  },
  {
   "cell_type": "markdown",
   "metadata": {
    "ExecuteTime": {
     "end_time": "2023-02-01T10:00:16.772909Z",
     "start_time": "2023-02-01T10:00:16.648353Z"
    }
   },
   "source": [
    "![tu](zcy_algorithm_pictures2/Screenshot_20230114_233340_tv.danmaku.bili_edit_175742443064328.jpg)\n",
    "![tu](zcy_algorithm_pictures2/Screenshot_20230114_233524_tv.danmaku.bili_edit_175833643554419.jpg)\n",
    "![tu](zcy_algorithm_pictures2/Screenshot_20230114_233945_tv.danmaku.bili_edit_176446539953284.jpg)\n",
    "![tu](zcy_algorithm_pictures2/Screenshot_20230114_235257_tv.danmaku.bili_edit_177105337082870.jpg)"
   ]
  },
  {
   "cell_type": "markdown",
   "metadata": {},
   "source": [
    "#### 岛问题"
   ]
  },
  {
   "cell_type": "markdown",
   "metadata": {},
   "source": [
    "![tu](zcy_algorithm_pictures2/Screenshot_20230114_235921_tv.danmaku.bili_edit_510916300478809.jpg)"
   ]
  },
  {
   "cell_type": "markdown",
   "metadata": {},
   "source": [
    "感染过程：连城一片的1先改成2<br>\n",
    "如果二维数组非常大，那分片后怎么合并，就可以了呢？<br>\n",
    "并查集，支持集合快速合并。<br>"
   ]
  },
  {
   "cell_type": "markdown",
   "metadata": {},
   "source": [
    "![tu](zcy_algorithm_pictures2/Screenshot_20230116_170447_tv.danmaku.bili_edit_212821986808150.jpg)\n",
    "![tu](zcy_algorithm_pictures2/Screenshot_20230116_171034_tv.danmaku.bili.jpg)\n",
    "![tu](zcy_algorithm_pictures2/Screenshot_20230116_171319_tv.danmaku.bili_edit_213204087207571.jpg)\n",
    "![tu](zcy_algorithm_pictures2/Screenshot_20230116_171630_tv.danmaku.bili_edit_534641790755918.jpg)"
   ]
  },
  {
   "cell_type": "code",
   "execution_count": null,
   "metadata": {},
   "outputs": [],
   "source": [
    "def IsLands(arr):\n",
    "    if len(arr) == 0 or len(arr[0]) == 0:\n",
    "        return 0\n",
    "    N = len(arr)\n",
    "    M = len(arr[0])\n",
    "    res = 0\n",
    "    for i in range(N):\n",
    "        for j in range(M):\n",
    "            if arr[i][j] == 1:\n",
    "                res += 1\n",
    "                infect(arr, i, j, N, M)\n",
    "    return res\n",
    "\n",
    "def infect(arr, i, j, N, M):\n",
    "    if i < 0 or i >= N or j < 0 or j >= M or arr[i][j] != 1:\n",
    "        return\n",
    "    arr[i][j] = 2\n",
    "    infect(arr, i + 1, j, N, M)\n",
    "    infect(arr, i - 1, j, N, M)\n",
    "    infect(arr, i, j + 1, N, M)\n",
    "    infect(arr, i, j - 1, N, M)"
   ]
  },
  {
   "cell_type": "code",
   "execution_count": 1,
   "metadata": {
    "ExecuteTime": {
     "end_time": "2023-02-02T07:42:29.595785Z",
     "start_time": "2023-02-02T07:42:29.586799Z"
    }
   },
   "outputs": [
    {
     "data": {
      "text/plain": [
       "2"
      ]
     },
     "execution_count": 1,
     "metadata": {},
     "output_type": "execute_result"
    }
   ],
   "source": [
    "class Element:\n",
    "    def __init__(self, v):\n",
    "        self.value = v\n",
    "\n",
    "class UnionFindSet:\n",
    "    def __init__(self):\n",
    "        self.elementMap = {}\n",
    "        self.fatherMap = {} # key 某个元素，value 该元素的父\n",
    "        self.sizeMap = {} # key 某个集合的代表元素，value 该集合的大小\n",
    "        \n",
    "    def UnionFindSet(self, arr):\n",
    "        for v in arr:\n",
    "            element = Element(v)\n",
    "            self.elementMap[v] = element\n",
    "            self.fatherMap[element] = element\n",
    "            self.sizeMap[element] = 1\n",
    "            \n",
    "    def findHead(self, element):\n",
    "        # 给定一个ele，往上一直找，把代表元素返回\n",
    "        path = []\n",
    "        while element != self.fatherMap[element]:\n",
    "            path.append(element)\n",
    "            element = self.fatherMap[element]\n",
    "            \n",
    "        while len(path) > 0:\n",
    "            song = path.pop()\n",
    "            self.fatherMap[song] = element\n",
    "        return element\n",
    "    \n",
    "    def isSameSet(self, a, b):\n",
    "        if a in self.elementMap and b in self.elementMap:\n",
    "            return self.findHead(elementMap[a]) == self.findHead(self.elementMap[b])\n",
    "        return False\n",
    "    \n",
    "    def union(self, a, b):\n",
    "        if a in self.elementMap and b in self.elementMap:\n",
    "            aF = self.findHead(self.elementMap[a])\n",
    "            bF = self.findHead(self.elementMap[b])\n",
    "            if aF != bF:\n",
    "                big = aF if self.sizeMap[aF] > self.sizeMap[bF] else bF\n",
    "                small = bF if big == aF else aF\n",
    "                self.fatherMap[small] = big\n",
    "                self.sizeMap[big] = self.sizeMap[aF] + self.sizeMap[bF]\n",
    "                del self.sizeMap[small]"
   ]
  },
  {
   "cell_type": "markdown",
   "metadata": {
    "ExecuteTime": {
     "end_time": "2023-02-02T08:29:08.010596Z",
     "start_time": "2023-02-02T08:29:07.994600Z"
    }
   },
   "source": [
    "![tu](zcy_algorithm_pictures2/Screenshot_20230116_174649_tv.danmaku.bili.jpg)\n",
    "![tu](zcy_algorithm_pictures2/Screenshot_20230116_174711_tv.danmaku.bili.jpg)"
   ]
  },
  {
   "cell_type": "markdown",
   "metadata": {},
   "source": [
    "### KMP算法解决的问题\n",
    "字符串str1和str2，str1是否包含str2，如果包含返回str2在str1中开始的位置。<br>\n",
    "如何做到时间复杂度O(N)完成？"
   ]
  },
  {
   "cell_type": "markdown",
   "metadata": {},
   "source": [
    "![tu](zcy_algorithm_pictures2/Screenshot_20230117_172100_tv.danmaku.bili_edit_243279689716002.jpg)\n",
    "![tu](zcy_algorithm_pictures2/Screenshot_20230117_173903_tv.danmaku.bili.jpg)\n",
    "![tu](zcy_algorithm_pictures2/Screenshot_20230117_174015_tv.danmaku.bili_edit_243822437061753.jpg)\n",
    "![tu](zcy_algorithm_pictures2/Screenshot_20230117_174758_tv.danmaku.bili_edit_244355967186671.jpg)\n",
    "![tu](zcy_algorithm_pictures2/Screenshot_20230122_210311_tv.danmaku.bili.jpg)"
   ]
  },
  {
   "cell_type": "code",
   "execution_count": null,
   "metadata": {},
   "outputs": [],
   "source": [
    "def getIndexOf(s, m):\n",
    "    if s == '' or m == '' or len(s) < 1 or len(m) < 1:\n",
    "        return -1\n",
    "    \n",
    "    str1 = list(s)\n",
    "    str2 = list(m)\n",
    "    i1 = 0\n",
    "    i2 = 0\n",
    "    nextArray = getNextArray(str2) # O(M)\n",
    "    # O(N)\n",
    "    while i1 < len(str1) and i2 < len(str2):\n",
    "        if str1[i1] == str2[i2]:\n",
    "            i1 += 1\n",
    "            i2 += 1\n",
    "        elif i2 == 0: # 等价条件：next[i2] == -1，str2中比对的位置已经无法往前跳了\n",
    "            i1 += 1\n",
    "        else:\n",
    "            i2 = nextArray[i2]\n",
    "            \n",
    "    # i1 越界  或者  i2 越界\n",
    "    return i1 - i2 if i2 == len(str2) else -1\n",
    "\n",
    "def getNextArray(ms):\n",
    "    if len(ms) == 1:\n",
    "        return [-1]\n",
    "    nextArray = [-1, 0]\n",
    "    i = 2\n",
    "    cn = 0 #拿哪个位置的字符和 i-1 的字符比\n",
    "    while i < len(ms):\n",
    "        if ms[i - 1] == ms[cn]:\n",
    "            cn += 1\n",
    "            nextArray[i] = cn\n",
    "            i += 1\n",
    "        # 当前跳到cn位置的字符，和i-1位置的字符配不上\n",
    "        elif cn > 0:\n",
    "            cn = nextArray[cn]\n",
    "        else:\n",
    "            i += 1\n",
    "            nextArray[i] = 0\n",
    "    return nextArray"
   ]
  },
  {
   "cell_type": "markdown",
   "metadata": {},
   "source": [
    "![tu](zcy_algorithm_pictures2/Screenshot_20230122_212052_tv.danmaku.bili_edit_334920444772331.jpg)\n",
    "![tu](zcy_algorithm_pictures2/Screenshot_20230122_213633_tv.danmaku.bili.jpg)\n",
    "![tu](zcy_algorithm_pictures2/Screenshot_20230122_214717_tv.danmaku.bili_edit_336385975950754.jpg)"
   ]
  },
  {
   "cell_type": "markdown",
   "metadata": {},
   "source": [
    "#### Manacher算法解决的问题\n",
    "字符串str中，最长回文子串的长度如何求解？<br>\n",
    "如何做到时间复杂度O(N)完成？"
   ]
  },
  {
   "cell_type": "markdown",
   "metadata": {},
   "source": [
    "![tu](zcy_algorithm_pictures2/Screenshot_20230125_132859_tv.danmaku.bili_edit_375167008701085.jpg)\n",
    "![tu](zcy_algorithm_pictures2/Screenshot_20230125_134704_tv.danmaku.bili_edit_560271076334299.jpg)\n",
    "![tu](zcy_algorithm_pictures2/Screenshot_20230125_165901_tv.danmaku.bili.jpg)\n",
    "![tu](zcy_algorithm_pictures2/Screenshot_20230126_211816_tv.danmaku.bili.jpg)\n",
    "![tu](zcy_algorithm_pictures2/Screenshot_20230206_110112_tv.danmaku.bili.jpg)\n",
    "![tu](zcy_algorithm_pictures2/Screenshot_20230206_111504_tv.danmaku.bili.jpg)"
   ]
  },
  {
   "cell_type": "code",
   "execution_count": null,
   "metadata": {},
   "outputs": [],
   "source": [
    "for (int i = 0; i<str.length; i++){ # 只进入一个分支，时间复杂度O(n)\n",
    "    if (i在R外部){\n",
    "        从i开始往两边暴力扩；R变大\n",
    "    }else{\n",
    "        if (i’ 回文区域彻底在L..R内){\n",
    "            pArr[i] = 某个O(1)表达式\n",
    "            }else if (i’回文区域有一部分在L..R外){\n",
    "            pArr[i] = 某个O(1)表达式\n",
    "        }else{ #i' 回文区域和L..R的左边界压线\n",
    "            从R之外的字符开始，往外扩，然后确定pArr[i]的答案\n",
    "            第一步扩失败了，R不变\n",
    "            否则，R变大\n",
    "        }\n",
    "    }\n",
    "}"
   ]
  },
  {
   "cell_type": "code",
   "execution_count": 10,
   "metadata": {
    "ExecuteTime": {
     "end_time": "2023-02-09T09:15:34.705716Z",
     "start_time": "2023-02-09T09:15:34.688717Z"
    }
   },
   "outputs": [
    {
     "data": {
      "text/plain": [
       "7"
      ]
     },
     "execution_count": 10,
     "metadata": {},
     "output_type": "execute_result"
    }
   ],
   "source": [
    "def manacherString(s):\n",
    "    chaArr = list(s)\n",
    "    res = [0] * (len(chaArr) * 2 + 1) # 加特殊字符后的长度\n",
    "    index = 0\n",
    "    for i in range(len(res)):\n",
    "        if (i & 1) == 0:\n",
    "            res[i] = '#'\n",
    "        else:\n",
    "            res[i] = chaArr[index]\n",
    "            index += 1\n",
    "    return res\n",
    "\n",
    "def maxLcpsLength(s):\n",
    "    if s == None or len(s) == 0:\n",
    "        return 0\n",
    "    manacher_str = manacherString(s) # 1221 --> '#', '1', '#', '2', '#', '2', '#', '1', '#'\n",
    "    pArr = [1] * len(manacher_str) # 回文半径数组\n",
    "    C = -1 # 中心\n",
    "    R = -1 # 有边界的再往右一个位置 最右有效区是 R-1 位置\n",
    "    max_len = float('-inf') # 扩出来的最大值\n",
    "    for i in range(len(manacher_str)): # 每个位置都求回文半径\n",
    "        pArr[i] = min(pArr[2 * C - i], R - i) if R > i else 1\n",
    "        while i + pArr[i] < len(manacher_str) and i - pArr[i] > -1: # 最右边的字符和最左边的字符没越界\n",
    "            if manacher_str[i + pArr[i]] == manacher_str[i - pArr[i]]:\n",
    "                pArr[i] += 1\n",
    "            else:\n",
    "                break\n",
    "        if i + pArr[i] > R:\n",
    "            R = i + pArr[i]\n",
    "            C = i\n",
    "        max_len = max(max_len, pArr[i])\n",
    "    return max_len - 1 # 原串的长度就是处理后的 半径 - 1\n",
    "    \n",
    "maxLcpsLength('abc1234321ab')"
   ]
  },
  {
   "cell_type": "markdown",
   "metadata": {},
   "source": [
    "### 滑动窗口 双端队列"
   ]
  },
  {
   "cell_type": "markdown",
   "metadata": {},
   "source": [
    "![tu](zcy_algorithm_pictures2/Screenshot_20230206_152543_tv.danmaku.bili.jpg)\n",
    "![tu](zcy_algorithm_pictures2/Screenshot_20230206_164724_tv.danmaku.bili_edit_616693000773606.jpg)"
   ]
  },
  {
   "cell_type": "code",
   "execution_count": 3,
   "metadata": {
    "ExecuteTime": {
     "end_time": "2023-02-10T01:59:48.013452Z",
     "start_time": "2023-02-10T01:59:47.997991Z"
    }
   },
   "outputs": [
    {
     "data": {
      "text/plain": [
       "[5, 5, 5, 4, 6, 7]"
      ]
     },
     "execution_count": 3,
     "metadata": {},
     "output_type": "execute_result"
    }
   ],
   "source": [
    "class WindowMax:\n",
    "    def __init__(self, a):\n",
    "        self.L = -1\n",
    "        self.R = 0\n",
    "        self.arr = a\n",
    "        self.qmax = []\n",
    "        \n",
    "class SlidingWindowMaxArray:\n",
    "    def __init__(self, a):\n",
    "        self.L = -1\n",
    "        self.R = 0\n",
    "        self.arr = a\n",
    "        self.qmax = []\n",
    "        \n",
    "    def addNumFromRight(self):\n",
    "        if self.R == len(self.arr):\n",
    "            return\n",
    "        \n",
    "        while len(self.qmax) > 0 and self.arr[self.qmax[-1]] <= self.arr[R]:\n",
    "            self.qmax.pop()\n",
    "        self.qmax.append(R)\n",
    "        R += 1\n",
    "    \n",
    "    # arr [L, R)\n",
    "    def removeNumFromLeft(self):\n",
    "        if L >= R - 1:\n",
    "            return\n",
    "        L += 1\n",
    "        if self.qmax[0] == L:\n",
    "            self.qmax.pop(0)\n",
    "            \n",
    "    def getMax(self):\n",
    "        if len(self.qmax) > 0:\n",
    "            return self.arr[self.qmax[0]]\n",
    "        \n",
    "    def getMaxWindow(self, w):\n",
    "        if len(self.arr) < 1 or w < 1 or len(self.arr) < w:\n",
    "            return None\n",
    "        \n",
    "        res = []\n",
    "#         index = 0\n",
    "        for i in range(len(self.arr)): # 窗口 （刚才讲的）的R\n",
    "            # i --> arr[i]\n",
    "            while len(self.qmax) > 0 and self.arr[self.qmax[-1]] <= self.arr[i]:\n",
    "                self.qmax.pop()\n",
    "            self.qmax.append(i)\n",
    "            if self.qmax[0] == i - w: # i - w  过期的下标\n",
    "                self.qmax.pop(0)\n",
    "            if i >= w - 1: # 窗口形成了\n",
    "                res.append(self.arr[self.qmax[0]])\n",
    "        return res\n",
    "    \n",
    "arr = [4, 3, 5, 4, 3, 3, 6, 7]\n",
    "instance = SlidingWindowMaxArray(arr)\n",
    "maxWindow = instance.getMaxWindow(3)\n",
    "maxWindow"
   ]
  },
  {
   "cell_type": "markdown",
   "metadata": {},
   "source": [
    "#### 窗口内最大值与最小值更新结构的原理与实现\n",
    "窗口只能右边界或左边界向右滑的情况下，维持窗口内部最大值或者最小值快速更新的结构"
   ]
  },
  {
   "cell_type": "code",
   "execution_count": null,
   "metadata": {},
   "outputs": [],
   "source": []
  },
  {
   "cell_type": "markdown",
   "metadata": {},
   "source": [
    "### 单调栈结构的原理和实现\n",
    "在数组中找到一个数，左边和右边比这个数小、且离这个数最近的位置<br>\n",
    "如果对每一个数都想求这样的信息，能不能整体代价达到O(N)？需要使用到单调栈结构<br>"
   ]
  },
  {
   "cell_type": "markdown",
   "metadata": {},
   "source": [
    "经典遍历的时间复杂度O(N^2)<br>\n",
    "![tu](zcy_algorithm_pictures2/Screenshot_20230206_173008_tv.danmaku.bili_edit_617580812389617.jpg)\n",
    "![tu](zcy_algorithm_pictures2/Screenshot_20230206_174102_tv.danmaku.bili.jpg)\n",
    "![tu](zcy_algorithm_pictures2/Screenshot_20230206_174135_tv.danmaku.bili.jpg)\n",
    "![tu](zcy_algorithm_pictures2/Screenshot_20230206_174206_tv.danmaku.bili.jpg)"
   ]
  },
  {
   "cell_type": "markdown",
   "metadata": {},
   "source": [
    "#### 定义：正数数组中累计和与最小值的乘积，假设叫做指标A\n",
    "给定一个数组，请返回子数组中，指标A最大的值"
   ]
  },
  {
   "cell_type": "markdown",
   "metadata": {},
   "source": [
    "![tu](zcy_algorithm_pictures2/Screenshot_20230206_174930_tv.danmaku.bili_edit_618805520491513.jpg)"
   ]
  },
  {
   "cell_type": "markdown",
   "metadata": {},
   "source": [
    "### 树形DP套路\n",
    "树形DP套路使用前提：<br>\n",
    "如果题目求解目标是S规则，则求解流程可以定成以每一个节点为头节点的子树在S规则下的每一个答案，并且最终答案一定在其中。"
   ]
  },
  {
   "cell_type": "markdown",
   "metadata": {},
   "source": [
    "#### 二叉树节点间的最大距离\n",
    "从二叉树的节点a出发，可以向上或者向下走，但沿途的节点只能经过一次，到达节点b时，路径上的节点个数叫做a到b的距离。那么二叉树任何两个节点之间都有距离，求整棵树的最大距离。"
   ]
  },
  {
   "cell_type": "markdown",
   "metadata": {},
   "source": [
    "![tu](zcy_algorithm_pictures2/Screenshot_20230207_211016_tv.danmaku.bili_edit_640094757431494.jpg)"
   ]
  },
  {
   "cell_type": "code",
   "execution_count": 5,
   "metadata": {
    "ExecuteTime": {
     "end_time": "2023-02-10T03:06:17.201901Z",
     "start_time": "2023-02-10T03:06:17.171576Z"
    }
   },
   "outputs": [
    {
     "name": "stdout",
     "output_type": "stream",
     "text": [
      "5 3\n"
     ]
    }
   ],
   "source": [
    "class Node:\n",
    "    def __init__(self, v):\n",
    "        self.value = v\n",
    "        self.left = None\n",
    "        self.right = None\n",
    "        \n",
    "class Info:\n",
    "    def __init__(self, dis, h):\n",
    "        self.maxDistance = dis\n",
    "        self.height = h\n",
    "        \n",
    "class MaxDistanceInTree:\n",
    "    def process(self, x):\n",
    "        # 返回以x为头的整棵树，两个信息\n",
    "        if x == None:\n",
    "            return Info(0, 0)\n",
    "        \n",
    "        leftInfo = self.process(x.left)\n",
    "        rightInfo = self.process(x.right)\n",
    "        \n",
    "        p1 = leftInfo.maxDistance\n",
    "        p2 = rightInfo.maxDistance\n",
    "        p3 = leftInfo.height + 1 + rightInfo.height\n",
    "        maxDistance = max(p3, p1, p2)\n",
    "        height = max(leftInfo.height, rightInfo.height) + 1\n",
    "        return Info(maxDistance, height)\n",
    "    \n",
    "head1 = Node(1)\n",
    "head1.left = Node(2)\n",
    "head1.right = Node(3)\n",
    "head1.left.left = Node(4)\n",
    "head1.left.right = Node(5)\n",
    "head1.right.left = Node(6)\n",
    "head1.right.right = Node(7)\n",
    "max_distance_in_tree = MaxDistanceInTree()\n",
    "info = max_distance_in_tree.process(head1)\n",
    "print(info.maxDistance, info.height)"
   ]
  },
  {
   "cell_type": "markdown",
   "metadata": {},
   "source": [
    "#### 树形dp套路"
   ]
  },
  {
   "cell_type": "markdown",
   "metadata": {},
   "source": [
    "树形dp套路第一步：<br>\n",
    "以某个节点X为头节点的子树中，分析答案有哪些可能性，并且这种分析是以X的左子树、X的右子树和X整棵树的角度来考虑可能性的。<br><br>\n",
    "树形dp套路第二步：<br>\n",
    "根据第一步的可能性分析，列车所有需要的信息<br><br>\n",
    "树形dp套路第三步：<br>\n",
    "合并第二步的信息，对左树和右树提出同样的需求，并写出信息结构<br><br>\n",
    "树形dp套路第四步：<br>\n",
    "设计递归函数，递归函数是处理以X为头节点的情况下的答案。<br>\n",
    "包括设计递归的base case，默认直接得到左树和右树的所有信息，以及把可能性做整合，并且要返回第三步的信息结构 这四个小步骤。<br>"
   ]
  },
  {
   "cell_type": "code",
   "execution_count": null,
   "metadata": {},
   "outputs": [],
   "source": []
  },
  {
   "cell_type": "markdown",
   "metadata": {},
   "source": [
    "#### 派对的最大快乐值"
   ]
  },
  {
   "cell_type": "markdown",
   "metadata": {},
   "source": [
    "![tu](zcy_algorithm_pictures2/Screenshot_20230207_211950_tv.danmaku.bili_edit_704826497602346.jpg)\n",
    "![tu](zcy_algorithm_pictures2/Screenshot_20230207_212241_tv.danmaku.bili_edit_704985700712217.jpg)\n",
    "![tu](zcy_algorithm_pictures2/Screenshot_20230207_212523_tv.danmaku.bili_edit_705007477759089.jpg)"
   ]
  },
  {
   "cell_type": "code",
   "execution_count": null,
   "metadata": {},
   "outputs": [],
   "source": [
    "class Employee:\n",
    "    def __init__(self, happy, nexts = []):\n",
    "        self.happy = happy # 这名员工可以带来的快乐值\n",
    "        self.nexts = nexts # 这名员工有哪些直接下级\n",
    "\n",
    "class Info:\n",
    "    def __init__(self, lai, bu):\n",
    "        self.laiMaxHappy = lai\n",
    "        self.buMaxHappy = bu\n",
    "        \n",
    "def maxHappy(boss):\n",
    "    headInfo = process(boss)\n",
    "    return max(headInfo.laiMaxHappy, headInfo.buMaxHappy)\n",
    "\n",
    "def process(x):\n",
    "    if len(x.nexts) == 0: # x是基层员工的时候\n",
    "        return Info(x.happy, 0)\n",
    "    \n",
    "    lai = x.happy # x来的情况下，整棵树最大收益\n",
    "    bu = 0 # x不来的情况下，整棵树最大收益\n",
    "    for next_employee in x.nexts:\n",
    "        nextInfo = process(next_employee)\n",
    "        lai += nextInfo.buMaxHappy\n",
    "        bu += max(nextInfo.laiMaxHappy, nextInfo.buMaxHappy)\n",
    "    return Info(lai, bu)"
   ]
  },
  {
   "cell_type": "markdown",
   "metadata": {},
   "source": [
    "### Morris遍历"
   ]
  },
  {
   "cell_type": "markdown",
   "metadata": {},
   "source": [
    "![tu](zcy_algorithm_pictures2/Screenshot_20230207_212841_tv.danmaku.bili_edit_759050092753968.jpg)\n",
    "![tu](zcy_algorithm_pictures2/Screenshot_20230212_145451_tv.danmaku.bili_edit_766739829025711.jpg)\n",
    "![tu](zcy_algorithm_pictures2/Screenshot_20230212_165040_tv.danmaku.bili_edit_748490424369121.jpg)"
   ]
  },
  {
   "cell_type": "markdown",
   "metadata": {
    "ExecuteTime": {
     "end_time": "2023-02-13T06:50:50.814088Z",
     "start_time": "2023-02-13T06:50:50.806091Z"
    }
   },
   "source": [
    "#### Morris遍历实现"
   ]
  },
  {
   "cell_type": "code",
   "execution_count": null,
   "metadata": {},
   "outputs": [],
   "source": [
    "def morris(head):\n",
    "    if head == None:\n",
    "        return\n",
    "    \n",
    "    cur = head\n",
    "    mostRight = None\n",
    "    while head != None:  # 过流程\n",
    "        mostRight = cur.left # mostRight是cur左孩子\n",
    "        if mostRight != None:\n",
    "            while mostRight.right != None and mostRight.right != cur:\n",
    "                mostRight = mostRight.right\n",
    "            # mostRight 变成了cur左子树上，最右的节点\n",
    "            if mostRight.right == None: # 这是第一次来的cur\n",
    "                mostRight.right = cur\n",
    "                cur = cur.left\n",
    "                continue\n",
    "            else: # mostRight.right == cur\n",
    "                mostRight.right = None\n",
    "        \n",
    "        cur = cur.right"
   ]
  },
  {
   "cell_type": "markdown",
   "metadata": {},
   "source": [
    "![tu](zcy_algorithm_pictures2/Screenshot_20230212_171456_tv.danmaku.bili.jpg)"
   ]
  },
  {
   "cell_type": "markdown",
   "metadata": {},
   "source": [
    "#### 先序遍历"
   ]
  },
  {
   "cell_type": "code",
   "execution_count": 2,
   "metadata": {
    "ExecuteTime": {
     "end_time": "2023-02-13T06:53:26.668584Z",
     "start_time": "2023-02-13T06:53:26.654260Z"
    }
   },
   "outputs": [
    {
     "data": {
      "text/plain": [
       "True"
      ]
     },
     "execution_count": 2,
     "metadata": {},
     "output_type": "execute_result"
    }
   ],
   "source": [
    "def morrisPre(head):\n",
    "    if head == None:\n",
    "        return\n",
    "    \n",
    "    cur = head\n",
    "    mostRight = None\n",
    "    while head != None:  # 过流程\n",
    "        mostRight = cur.left # mostRight是cur左孩子\n",
    "        if mostRight != None:\n",
    "            while mostRight.right != None and mostRight.right != cur:\n",
    "                mostRight = mostRight.right\n",
    "            # mostRight 变成了cur左子树上，最右的节点\n",
    "            if mostRight.right == None: # 这是第一次来的cur\n",
    "                print(cur.value)\n",
    "                mostRight.right = cur\n",
    "                cur = cur.left\n",
    "                continue\n",
    "            else: # mostRight.right == cur\n",
    "                mostRight.right = None\n",
    "        else: # 没有左子树的情况\n",
    "            print(cur.value)\n",
    "        \n",
    "        cur = cur.right"
   ]
  },
  {
   "cell_type": "markdown",
   "metadata": {},
   "source": [
    "#### 中序遍历"
   ]
  },
  {
   "cell_type": "code",
   "execution_count": null,
   "metadata": {},
   "outputs": [],
   "source": [
    "def morrisIn(head):\n",
    "    if head == None:\n",
    "        return\n",
    "    \n",
    "    cur = head\n",
    "    mostRight = None\n",
    "    while head != None:  # 过流程\n",
    "        mostRight = cur.left # mostRight是cur左孩子\n",
    "        if mostRight != None:\n",
    "            while mostRight.right != None and mostRight.right != cur:\n",
    "                mostRight = mostRight.right\n",
    "            # mostRight 变成了cur左子树上，最右的节点\n",
    "            if mostRight.right == None: # 这是第一次来的cur\n",
    "                mostRight.right = cur\n",
    "                cur = cur.left\n",
    "                continue\n",
    "            else: # mostRight.right == cur\n",
    "                mostRight.right = None\n",
    "        print(cur.value)\n",
    "        cur = cur.right"
   ]
  },
  {
   "cell_type": "markdown",
   "metadata": {},
   "source": [
    "![tu](zcy_algorithm_pictures2/Screenshot_20230212_171732_tv.danmaku.bili.jpg)\n",
    "![tu](zcy_algorithm_pictures2/Screenshot_20230212_171800_tv.danmaku.bili.jpg)\n",
    "![tu](zcy_algorithm_pictures2/Screenshot_20230212_173004_tv.danmaku.bili.jpg)"
   ]
  },
  {
   "cell_type": "markdown",
   "metadata": {},
   "source": [
    "#### 后续遍历"
   ]
  },
  {
   "cell_type": "code",
   "execution_count": null,
   "metadata": {},
   "outputs": [],
   "source": [
    "def morrisPos(head):\n",
    "    if head == None:\n",
    "        return\n",
    "    \n",
    "    cur = head\n",
    "    mostRight = None\n",
    "    while head != None:  # 过流程\n",
    "        mostRight = cur.left # mostRight是cur左孩子\n",
    "        if mostRight != None:\n",
    "            while mostRight.right != None and mostRight.right != cur:\n",
    "                mostRight = mostRight.right\n",
    "            # mostRight 变成了cur左子树上，最右的节点\n",
    "            if mostRight.right == None: # 这是第一次来的cur\n",
    "                mostRight.right = cur\n",
    "                cur = cur.left\n",
    "                continue\n",
    "            else: # mostRight.right == cur\n",
    "                mostRight.right = None\n",
    "                printEdge(cur.left)\n",
    "        \n",
    "        cur = cur.right\n",
    "        \n",
    "    printEdge(head)\n",
    "    \n",
    "def printEdge(x):\n",
    "    tail = reverseEdge(x)\n",
    "    cur = tail\n",
    "    while cur != None:\n",
    "        print(cur.value)\n",
    "        cur = cur.right\n",
    "    reverseEdge(tail)\n",
    "    \n",
    "def reverseEdge(from_):\n",
    "    pre = None\n",
    "    next_ = None\n",
    "    while from_ != None:\n",
    "        next_ = from_.right\n",
    "        from_.right = pre\n",
    "        pre = from_\n",
    "        from_ = next_\n",
    "    return pre"
   ]
  },
  {
   "cell_type": "markdown",
   "metadata": {},
   "source": [
    "#### 搜索二叉树\n",
    "如果这棵树一直在升序，那它就是搜索二叉树。"
   ]
  },
  {
   "cell_type": "code",
   "execution_count": null,
   "metadata": {},
   "outputs": [],
   "source": [
    "def isBST(head):\n",
    "    if head == None:\n",
    "        return\n",
    "    \n",
    "    cur = head\n",
    "    mostRight = None\n",
    "    preValue = float('-inf')\n",
    "    while head != None:  # 过流程\n",
    "        mostRight = cur.left # mostRight是cur左孩子\n",
    "        if mostRight != None:\n",
    "            while mostRight.right != None and mostRight.right != cur:\n",
    "                mostRight = mostRight.right\n",
    "            # mostRight 变成了cur左子树上，最右的节点\n",
    "            if mostRight.right == None: # 这是第一次来的cur\n",
    "                mostRight.right = cur\n",
    "                cur = cur.left\n",
    "                continue\n",
    "            else: # mostRight.right == cur\n",
    "                mostRight.right = None\n",
    "        if cur.value <= preValue:\n",
    "            return False\n",
    "        preValue = cur.value\n",
    "        cur = cur.right\n",
    "    return True"
   ]
  },
  {
   "cell_type": "markdown",
   "metadata": {},
   "source": [
    "### 大数据题目的解题技巧"
   ]
  },
  {
   "cell_type": "markdown",
   "metadata": {},
   "source": [
    "1) 哈希函数可以把数据按种类均匀分流<br>\n",
    "2) 布隆过滤器用于集合的建立与查询，并可以节省大量空间<br>\n",
    "3) 一致性哈希解决数据服务器的负载管理问题<br>\n",
    "4) 利用并查集结果做岛问题的并行计算<br>\n",
    "5) 位图解决某一范围上数字的出现情况，并可以节省大量空间<br>\n",
    "6) 利用分段统计思想、并进一步节省大量空间<br>\n",
    "7) 利用堆、外排序来做多个处理单元的结果合并<br>"
   ]
  },
  {
   "cell_type": "markdown",
   "metadata": {},
   "source": [
    "#### 32位无符号整数，找未出现的数"
   ]
  },
  {
   "cell_type": "markdown",
   "metadata": {},
   "source": [
    "32位无符号整数的范围是0 ~ 4,294,967,295，现在有一个正好包含40亿个无符号整数的文件，所以在整个范围中必然存在没出现过的数。可以使用1GB的内存，怎么找到所有未出现的数？<br><br>\n",
    "数据范围0 ~ $2^{32}$ - 1,用比特类型的数组，需要的空间是$\\frac{2^{32}}{8}$字节（Byte）$=500M$,即位图所需空间。范围做位图对应，不是数字，是0就没出现过，是1就出现过。<br><br><br>\n",
    "<b>再苛刻点，如果只给3KB的空间，怎么只找到一个没出现的数？</b><br>\n",
    "把3KB的空间变成一个整型数组的话，这个整型数组能有多大？一个整型数字是4字节。注意这里的整型是无符号整型，无符号整型的范围是0到42亿。<br>\n",
    "3KB/4 求最近的2的某次方。3000/4 大约700多。最接近的是512。那么申请一个长度为512的整型数组，这样内存肯定不会爆掉。数的范围还是0到2^32-1，把它分成512份，一定能整除，每一份是8388608。arr[0]统计0到8388607这个范围的数出现了多少次。x/8388608 就知道它属于哪个范围。只有40亿个数，那么肯定有某一个位置的词频不到8388608。【分桶的思想】接下来在这个定位的范围内，再分成512份，继续过这40个数，不在这个范围内的数不要，在的进行统计，继续细分，周而复始，总能找到那个没出现的数。只有1KB呢？同理<br><br>\n",
    "更极端的，只能申请有限几个变量？二分，左侧如果满的一定是2^32/2,右侧如果满的一定是2^32/2,有可能会超了，超了的不管，只看不满的。不满的继续二分。最多过几次这个大文件呢？最多过32次。"
   ]
  },
  {
   "cell_type": "markdown",
   "metadata": {},
   "source": [
    "#### 找重复url\n",
    "有一个包含100亿个URL的大文件，假设每个url占用64B，请找出其中所有重复的URL。<br>\n",
    "【补充】<br>\n",
    "某搜索公式，一条的用户搜索词汇是海量的（百亿数据量），请设计一种求出每天热门Top 100词汇的可行办法。<br>"
   ]
  },
  {
   "cell_type": "markdown",
   "metadata": {},
   "source": [
    "可以用布隆过滤器，不用布隆过滤器，其实就是用哈希函数分流一下就行了。<br>\n",
    "就是100亿个url大文件分流到多个小文件，或者分流到多台机器。通过哈希函数，每个url计算出一个哈希值，然后模一个数，哈希的性质让同一个url会进同一个文件。然后在每个小文件里统计重复的url，再把信息归总一下。<br>\n",
    "布隆过滤器就是每次添加的时候边查询，每次查询的时候如果是的话，就把这个url记录在重复的url的文件里搜集起来。<br><br>\n",
    "找出top 100：用大根堆<br>\n",
    "将每个大根堆的堆顶单独拿出来，组成一个总堆。每次从总堆中弹出一个，然后看它来自哪里，把它从对应的大根堆中删除，然后把它的下一条记录放入总堆中。总堆实际上就是各个大根堆中的最大元素之间进行PK。堆代价是log级别的。二维堆 代价低。"
   ]
  },
  {
   "cell_type": "markdown",
   "metadata": {},
   "source": [
    "#### 找出所有出现两次的数\n",
    "32位无符号整数的范围是0 ~ 4294967295，现在有40亿个无符号整数，可以使用最多1GB的内存，找出所有出现了两次的数。<br><br>\n",
    "【补充】<br>\n",
    "可以使用最多10MB的内存，怎么找到这40亿个整数的中位数？<br>"
   ]
  },
  {
   "cell_type": "markdown",
   "metadata": {},
   "source": [
    "依然不能使用哈希表，要是一个数算4字节，一条记录既得包含这个数还得包含这个数的词频，一条记录就得8字节。40亿的记录内存会爆掉的。这道题的原问题是位图的升级。最万能的方式是哈希函数分流的方式。假设1G内存都做哈希表，可以看一条记录8字节，它最多多少个记录，算出来之后就知道应该分多少个小文件了。然后可以确定哈希函数把一个数算出来一个哈希值后把这个数去模几，模几后它就会分配到某一个小文件里面去，然后在小文件里，去统计每一个数出现的次数哪些数是出现两次的。你的哈希表就够用了。把每一个小文件里的最后汇总起来，就是最后的答案。<br>\n",
    "所以可以使用哈希函数进行分流，虽然分成了多个小文件，但是小文件占用的是硬盘空间。对每一个小文件使用内存空间的话，是可以实现的。<br>\n",
    "如果不用哈希函数分流，怎么做？用位图做。位图有一个问题，位图只能表示一个数出现过还是没出现过，怎样表示一个数出现了两次？就可以用两个位表示一个数出现的状态。两个位的信息是00代表x出现了0次，01代表x出现1次，10代表x出现了2次，11代表x出现>2次。2^32 * 2bit/8得到字节byte，1G是够用的。<br><br><br>\n",
    "【补充】<br>\n",
    "还是用范围统计的思想，现在把内存做的更小点，现在只给10kb。<br>\n",
    "先看10kb能申请多大的无符号整型数组unsign int[]？10kb/4B = 2500 长度。2048离2的多少次方最近。所以无符号整型数组的长度定2048，将0 ~ 2^32次方等分成2048份，某一个数属于哪一个范围，把整型数组相应的位置的词频++。假设最后arr[0]是100万，arr[1]10亿，arr[2]5亿，将他们累加起来，最后哪个范围让累加和刚刚超过20亿，就知道了中位数出现在哪个范围上。然后将这个小范围再等分成2048份。。。<br>"
   ]
  },
  {
   "cell_type": "markdown",
   "metadata": {},
   "source": [
    "<br><br>腾讯今年二面面试题<br>假设有个10G的文件，里面是无符号整数，是无序的，如果只给5G内存，怎样输出一个文件，但它是有序的。（输出的文件是存储在硬盘上，也可以是10M内存 5K内存）<br>小根堆 里面放x：词频，z：词频，每条记录占8字节。假设加上索引等其它开销，一条记录需要消耗16字节 2^4, 5 * 2^30 / 2^4 = 5 * 2^26，最近的是2^28。<br>\n",
    "有符号整数的范围是2^32（-2^31 ~ 2^31 -1）,把他等分成每份2^28。总的范围分成2^4份。用小根堆先统计最低范围上出现的状况。<br>\n",
    "第一个范围-2^31 ~ -2^31 + 2^27 -1，过文件，只关注这个范围内的数，统计这个范围内的数字出现的词频。然后根据词频输出到新文件里去。aaaffggggg<br><br>方法二：<br>大根堆筛选出最小的几个数，利用大根堆的门槛，迅速知道这个数该不该进这个门槛。"
   ]
  },
  {
   "cell_type": "code",
   "execution_count": null,
   "metadata": {},
   "outputs": [],
   "source": [
    "![tu](zcy_algorithm_pictures2/Screenshot_20230220_154252_tv.danmaku.bili.jpg)\n",
    "![tu](zcy_algorithm_pictures2/Screenshot_20230220_154348_tv.danmaku.bili.jpg)\n",
    "![tu](zcy_algorithm_pictures2/Screenshot_20230220_154352_tv.danmaku.bili.jpg)\n",
    "![tu](zcy_algorithm_pictures2/Screenshot_20230220_154434_tv.danmaku.bili.jpg)"
   ]
  },
  {
   "cell_type": "markdown",
   "metadata": {},
   "source": [
    "#### 位运算的题目\n",
    "之前介绍过一些，下面继续<br>\n",
    "给定两个有符号32位整数a和b，返回a和b中较大的。<br><br>\n",
    "【要求】<br>\n",
    "不用任何比较判断。<br>"
   ]
  },
  {
   "cell_type": "markdown",
   "metadata": {},
   "source": [
    "<font color=red>想不到的回去补补计组吧，都挺基础的</font>"
   ]
  },
  {
   "cell_type": "code",
   "execution_count": 10,
   "metadata": {
    "ExecuteTime": {
     "end_time": "2023-03-13T09:22:40.240455Z",
     "start_time": "2023-03-13T09:22:36.694826Z"
    }
   },
   "outputs": [],
   "source": [
    "from random import randint\n",
    "\n",
    "def sign(n: int):\n",
    "    '''\n",
    "    右移31位，符号位就移到了最右侧，和1与之后，非负数会得到0，负数会得到1。\n",
    "    按位取反： int(not(1))  --> 0,  int(not(0)) --> 1\n",
    "    按位取反后正数返回1，负数返回0。\n",
    "    '''\n",
    "    return int(not( (n >> 31) & 1 ) )\n",
    "\n",
    "def getMax1(a: int, b: int):\n",
    "    '''\n",
    "    这种方法的问题是a-b可能会溢出，溢出的时候就不能用了\n",
    "    '''\n",
    "    c = a - b\n",
    "    scA = sign(c) # a-b为非负，scA为1；a-b为负，scA为0\n",
    "    scB = int(not(scA))\n",
    "    return a * scA + b * scB\n",
    "\n",
    "def getMax2(a: int, b: int):\n",
    "    '''\n",
    "    返回a的情况：\n",
    "    1） if (a b符号相同) & (a-b>=0)\n",
    "    2） a和b不相同 & a>0\n",
    "    '''\n",
    "    c = a - b\n",
    "    sa = sign(a)\n",
    "    sb = sign(b)\n",
    "    sc = sign(c)\n",
    "    difSab = sa ^ sb #a和b的符号不一样为1，一样为0\n",
    "    sameSab = int(not(difSab))\n",
    "    returnA = difSab * sa + sameSab * sc\n",
    "    returnB = int(not(returnA))\n",
    "    return returnA * a + returnB * b\n",
    "\n",
    "\n",
    "idx = 0\n",
    "while idx < 1000000:\n",
    "    idx += 1\n",
    "    a = randint(-1000000, 1000000)\n",
    "    b =  randint(-1000000, 1000000)\n",
    "    res1 = getMax1(a, b)\n",
    "    res2 = getMax2(a, b)\n",
    "    if res1 != res2:\n",
    "        print('ops!!!')\n",
    "        print(a, b)\n",
    "        break"
   ]
  },
  {
   "cell_type": "code",
   "execution_count": 12,
   "metadata": {
    "ExecuteTime": {
     "end_time": "2023-03-13T09:25:08.774818Z",
     "start_time": "2023-03-13T09:25:08.754860Z"
    }
   },
   "outputs": [
    {
     "name": "stdout",
     "output_type": "stream",
     "text": [
      "-2147480000\n",
      "2147483647\n"
     ]
    }
   ],
   "source": [
    "a = 2147483647\n",
    "b = -2147480000\n",
    "print(getMax1(a, b)) # wrong answer because of overflow\n",
    "print(getMax2(a, b))"
   ]
  },
  {
   "cell_type": "markdown",
   "metadata": {},
   "source": [
    "#### 判断一个32位正数是不是2的幂、4的幂\n",
    "\n",
    "2的幂就只能有一位是1，其他位都为0"
   ]
  },
  {
   "cell_type": "markdown",
   "metadata": {},
   "source": [
    "方法1：<br>\n",
    "拿到这个数最右侧的1，然后和原来的数判断一下是否相等，相等那么它就只有一个1。<br><br>\n",
    "方法2：<br>\n",
    "x只有一个1\n",
    "\n",
    "| x-1     | 二进制 |\n",
    "| --------  | ------: |\n",
    "| $2^0$-1 | 0000000 |\n",
    "| $2^1$-1 | 0000001 |\n",
    "| $2^2$-1 | 0000011 |\n",
    "| $2^3$-1 | 0000111 |\n",
    "\n",
    "x&(x-1) == 0<br><br>"
   ]
  },
  {
   "cell_type": "markdown",
   "metadata": {
    "ExecuteTime": {
     "end_time": "2023-02-23T03:01:28.473048Z",
     "start_time": "2023-02-23T03:01:28.466045Z"
    }
   },
   "source": [
    "4的幂<br>\n",
    "\n",
    "| 4的幂     | 二进制 | 1所在位置 |\n",
    "| --------  | ------: | -------- |\n",
    "| $4^0$ | 00000001 | 0 |\n",
    "| $4^1$ | 00000100 | 2 |\n",
    "| $4^2$ | 00010000 | 4 |\n",
    "| $4^3$ | 01000000 | 6 |\n",
    "\n",
    "1） x只有一个1<br>\n",
    "2） x&010101010101 != 0 不等于0就是4的幂，等于0就不是。"
   ]
  },
  {
   "cell_type": "code",
   "execution_count": 15,
   "metadata": {
    "ExecuteTime": {
     "end_time": "2023-03-13T09:52:19.822112Z",
     "start_time": "2023-03-13T09:52:19.815106Z"
    }
   },
   "outputs": [
    {
     "data": {
      "text/plain": [
       "False"
      ]
     },
     "execution_count": 15,
     "metadata": {},
     "output_type": "execute_result"
    }
   ],
   "source": [
    "def is2Power(n: int):\n",
    "    return (n & (n - 1) == 0)\n",
    "\n",
    "def is4Power(n: int):\n",
    "    '''\n",
    "    0x55555555 : 010101..010101\n",
    "    '''\n",
    "    return (n & (n - 1) == 0) and (n & 0x55555555) != 0\n",
    "\n",
    "is4Power(32)"
   ]
  },
  {
   "cell_type": "markdown",
   "metadata": {},
   "source": [
    "#### 给定两个有符号32位整数，不能使用运算符，分别实现a和b的加、减、乘、除运算\n",
    "【要求】<br>\n",
    "如果给定a、b执行加减乘除的运算结果就会导致数据的溢出，那么你实现的函数不必对此负责，除此之外请保证计算过程不发生溢出<br>\n",
    "力扣371题<br><br>\n",
    "异或 ^：无进位相加<br> \n",
    "&<<1 左移一位就是进位信息\n",
    "\n",
    "| 十进制     | 二进制 |\n",
    "| --------  | ------: | \n",
    "| 13 | 01101 |\n",
    "| 7 | 00111 |\n",
    "| ^ | 01010 | \n",
    "| & | 00101 |\n",
    "| &<<1 | 01010 | \n",
    "\n",
    "| ^ 进 | 相加 |\n",
    "| --------  | ------: | \n",
    "| ^ | 01010 |\n",
    "| 进 | 01010 | \n",
    "| ^ | 00000 | \n",
    "| 进 | 10100 |\n",
    "\n",
    "| ^ 进 | 相加 |\n",
    "| --------  | ------: | \n",
    "| ^ | 00000 | \n",
    "| 进 | 10100 |\n",
    "| ^ | 10100 |\n",
    "| 进 | 00000 |\n",
    "\n",
    "不断算异或和进位信息，直到没有进位信息，异或的结果就是最终结果。"
   ]
  },
  {
   "cell_type": "markdown",
   "metadata": {},
   "source": [
    "相乘<br>\n",
    "![tu](zcy_algorithm_pictures2/Screenshot_20230224_174519_tv.danmaku.bili.jpg)\n",
    "相除<br>\n",
    "相乘的逆运算。<br>\n",
    "101尽可能往左移动，但不要大于被除数，之后再与被除数做异或，移动的位数标1。异或之后的结果继续和除数相除，即除数尽可能往左移动，循<br环。<br>\n",
    "![tu](zcy_algorithm_pictures2/IMG_20230316_103519.jpg)"
   ]
  },
  {
   "cell_type": "code",
   "execution_count": 17,
   "metadata": {
    "ExecuteTime": {
     "end_time": "2023-03-16T03:03:22.476476Z",
     "start_time": "2023-03-16T03:01:37.340369Z"
    },
    "collapsed": true
   },
   "outputs": [
    {
     "name": "stdout",
     "output_type": "stream",
     "text": [
      "-3\n",
      "150\n",
      "60 minus 90\n",
      "-30\n",
      "15\n",
      "60 5\n",
      "i 31\n",
      "i 30\n",
      "i 29\n",
      "i 28\n",
      "i 27\n",
      "i 26\n",
      "i 25\n",
      "i 24\n",
      "i 23\n",
      "i 22\n",
      "i 21\n",
      "i 20\n",
      "i 19\n",
      "i 18\n",
      "i 17\n",
      "i 16\n",
      "i 15\n",
      "i 14\n",
      "i 13\n",
      "i 12\n",
      "i 11\n",
      "i 10\n",
      "i 9\n",
      "i 8\n",
      "i 7\n",
      "i 6\n",
      "i 5\n",
      "i 4\n",
      "i 3\n",
      "60 minus 40\n"
     ]
    },
    {
     "ename": "KeyboardInterrupt",
     "evalue": "",
     "output_type": "error",
     "traceback": [
      "\u001b[1;31m---------------------------------------------------------------------------\u001b[0m",
      "\u001b[1;31mKeyboardInterrupt\u001b[0m                         Traceback (most recent call last)",
      "\u001b[1;32m<ipython-input-17-edafe71cd4aa>\u001b[0m in \u001b[0;36m<module>\u001b[1;34m\u001b[0m\n\u001b[0;32m     48\u001b[0m \u001b[0mprint\u001b[0m\u001b[1;33m(\u001b[0m\u001b[0mbybit\u001b[0m\u001b[1;33m.\u001b[0m\u001b[0mminus\u001b[0m\u001b[1;33m(\u001b[0m\u001b[1;36m60\u001b[0m\u001b[1;33m,\u001b[0m \u001b[1;36m90\u001b[0m\u001b[1;33m)\u001b[0m\u001b[1;33m)\u001b[0m\u001b[1;33m\u001b[0m\u001b[1;33m\u001b[0m\u001b[0m\n\u001b[0;32m     49\u001b[0m \u001b[0mprint\u001b[0m\u001b[1;33m(\u001b[0m\u001b[0mbybit\u001b[0m\u001b[1;33m.\u001b[0m\u001b[0mmulti\u001b[0m\u001b[1;33m(\u001b[0m\u001b[1;36m3\u001b[0m\u001b[1;33m,\u001b[0m \u001b[1;36m5\u001b[0m\u001b[1;33m)\u001b[0m\u001b[1;33m)\u001b[0m\u001b[1;33m\u001b[0m\u001b[1;33m\u001b[0m\u001b[0m\n\u001b[1;32m---> 50\u001b[1;33m \u001b[0mprint\u001b[0m\u001b[1;33m(\u001b[0m\u001b[0mbybit\u001b[0m\u001b[1;33m.\u001b[0m\u001b[0mdiv\u001b[0m\u001b[1;33m(\u001b[0m\u001b[1;36m60\u001b[0m\u001b[1;33m,\u001b[0m \u001b[1;36m5\u001b[0m\u001b[1;33m)\u001b[0m\u001b[1;33m)\u001b[0m\u001b[1;33m\u001b[0m\u001b[1;33m\u001b[0m\u001b[0m\n\u001b[0m",
      "\u001b[1;32m<ipython-input-17-edafe71cd4aa>\u001b[0m in \u001b[0;36mdiv\u001b[1;34m(self, a, b)\u001b[0m\n\u001b[0;32m     39\u001b[0m             \u001b[1;32mif\u001b[0m \u001b[1;33m(\u001b[0m\u001b[0mx\u001b[0m \u001b[1;33m>>\u001b[0m \u001b[0mi\u001b[0m\u001b[1;33m)\u001b[0m \u001b[1;33m>=\u001b[0m \u001b[0my\u001b[0m\u001b[1;33m:\u001b[0m\u001b[1;33m\u001b[0m\u001b[1;33m\u001b[0m\u001b[0m\n\u001b[0;32m     40\u001b[0m                 \u001b[0mres\u001b[0m \u001b[1;33m|=\u001b[0m \u001b[1;33m(\u001b[0m\u001b[1;36m1\u001b[0m \u001b[1;33m<<\u001b[0m \u001b[0mi\u001b[0m\u001b[1;33m)\u001b[0m\u001b[1;33m\u001b[0m\u001b[1;33m\u001b[0m\u001b[0m\n\u001b[1;32m---> 41\u001b[1;33m                 \u001b[0mx\u001b[0m \u001b[1;33m=\u001b[0m \u001b[0mself\u001b[0m\u001b[1;33m.\u001b[0m\u001b[0mminus\u001b[0m\u001b[1;33m(\u001b[0m\u001b[0mx\u001b[0m\u001b[1;33m,\u001b[0m \u001b[1;33m(\u001b[0m\u001b[0my\u001b[0m \u001b[1;33m<<\u001b[0m \u001b[0mi\u001b[0m\u001b[1;33m)\u001b[0m\u001b[1;33m)\u001b[0m\u001b[1;33m\u001b[0m\u001b[1;33m\u001b[0m\u001b[0m\n\u001b[0m\u001b[0;32m     42\u001b[0m                 \u001b[0mprint\u001b[0m\u001b[1;33m(\u001b[0m\u001b[0mres\u001b[0m\u001b[1;33m,\u001b[0m \u001b[0mx\u001b[0m\u001b[1;33m)\u001b[0m\u001b[1;33m\u001b[0m\u001b[1;33m\u001b[0m\u001b[0m\n\u001b[0;32m     43\u001b[0m         \u001b[1;32mreturn\u001b[0m \u001b[0mself\u001b[0m\u001b[1;33m.\u001b[0m\u001b[0mnegNum\u001b[0m\u001b[1;33m(\u001b[0m\u001b[0mres\u001b[0m\u001b[1;33m)\u001b[0m \u001b[1;32mif\u001b[0m \u001b[0mself\u001b[0m\u001b[1;33m.\u001b[0m\u001b[0misNeg\u001b[0m\u001b[1;33m(\u001b[0m\u001b[0ma\u001b[0m\u001b[1;33m)\u001b[0m \u001b[1;33m^\u001b[0m \u001b[0mself\u001b[0m\u001b[1;33m.\u001b[0m\u001b[0misNeg\u001b[0m\u001b[1;33m(\u001b[0m\u001b[0mb\u001b[0m\u001b[1;33m)\u001b[0m \u001b[1;32melse\u001b[0m \u001b[0mres\u001b[0m\u001b[1;33m\u001b[0m\u001b[1;33m\u001b[0m\u001b[0m\n",
      "\u001b[1;32m<ipython-input-17-edafe71cd4aa>\u001b[0m in \u001b[0;36mminus\u001b[1;34m(self, a, b)\u001b[0m\n\u001b[0;32m     16\u001b[0m     \u001b[1;32mdef\u001b[0m \u001b[0mminus\u001b[0m\u001b[1;33m(\u001b[0m\u001b[0mself\u001b[0m\u001b[1;33m,\u001b[0m \u001b[0ma\u001b[0m\u001b[1;33m,\u001b[0m \u001b[0mb\u001b[0m\u001b[1;33m)\u001b[0m\u001b[1;33m:\u001b[0m\u001b[1;33m\u001b[0m\u001b[1;33m\u001b[0m\u001b[0m\n\u001b[0;32m     17\u001b[0m         \u001b[0mprint\u001b[0m\u001b[1;33m(\u001b[0m\u001b[0ma\u001b[0m\u001b[1;33m,\u001b[0m \u001b[1;34m'minus'\u001b[0m\u001b[1;33m,\u001b[0m \u001b[0mb\u001b[0m\u001b[1;33m)\u001b[0m\u001b[1;33m\u001b[0m\u001b[1;33m\u001b[0m\u001b[0m\n\u001b[1;32m---> 18\u001b[1;33m         \u001b[1;32mreturn\u001b[0m \u001b[0mself\u001b[0m\u001b[1;33m.\u001b[0m\u001b[0madd\u001b[0m\u001b[1;33m(\u001b[0m\u001b[0ma\u001b[0m\u001b[1;33m,\u001b[0m \u001b[0mself\u001b[0m\u001b[1;33m.\u001b[0m\u001b[0mnegNum\u001b[0m\u001b[1;33m(\u001b[0m\u001b[0mb\u001b[0m\u001b[1;33m)\u001b[0m\u001b[1;33m)\u001b[0m\u001b[1;33m\u001b[0m\u001b[1;33m\u001b[0m\u001b[0m\n\u001b[0m\u001b[0;32m     19\u001b[0m \u001b[1;33m\u001b[0m\u001b[0m\n\u001b[0;32m     20\u001b[0m     \u001b[1;32mdef\u001b[0m \u001b[0mmulti\u001b[0m\u001b[1;33m(\u001b[0m\u001b[0mself\u001b[0m\u001b[1;33m,\u001b[0m \u001b[0ma\u001b[0m\u001b[1;33m,\u001b[0m \u001b[0mb\u001b[0m\u001b[1;33m)\u001b[0m\u001b[1;33m:\u001b[0m\u001b[1;33m\u001b[0m\u001b[1;33m\u001b[0m\u001b[0m\n",
      "\u001b[1;32m<ipython-input-17-edafe71cd4aa>\u001b[0m in \u001b[0;36madd\u001b[1;34m(self, a, b)\u001b[0m\n\u001b[0;32m      7\u001b[0m         \u001b[1;32mwhile\u001b[0m \u001b[0mb\u001b[0m \u001b[1;33m!=\u001b[0m \u001b[1;36m0\u001b[0m\u001b[1;33m:\u001b[0m\u001b[1;33m\u001b[0m\u001b[1;33m\u001b[0m\u001b[0m\n\u001b[0;32m      8\u001b[0m             \u001b[0msum_\u001b[0m \u001b[1;33m=\u001b[0m \u001b[0ma\u001b[0m \u001b[1;33m^\u001b[0m \u001b[0mb\u001b[0m  \u001b[1;31m# 无进位相加的结果\u001b[0m\u001b[1;33m\u001b[0m\u001b[1;33m\u001b[0m\u001b[0m\n\u001b[1;32m----> 9\u001b[1;33m             \u001b[0mb\u001b[0m \u001b[1;33m=\u001b[0m \u001b[1;33m(\u001b[0m\u001b[0ma\u001b[0m \u001b[1;33m&\u001b[0m \u001b[0mb\u001b[0m\u001b[1;33m)\u001b[0m \u001b[1;33m<<\u001b[0m \u001b[1;36m1\u001b[0m \u001b[1;31m# 进位信息\u001b[0m\u001b[1;33m\u001b[0m\u001b[1;33m\u001b[0m\u001b[0m\n\u001b[0m\u001b[0;32m     10\u001b[0m             \u001b[0ma\u001b[0m \u001b[1;33m=\u001b[0m \u001b[0msum_\u001b[0m\u001b[1;33m\u001b[0m\u001b[1;33m\u001b[0m\u001b[0m\n\u001b[0;32m     11\u001b[0m         \u001b[1;32mreturn\u001b[0m \u001b[0msum_\u001b[0m\u001b[1;33m\u001b[0m\u001b[1;33m\u001b[0m\u001b[0m\n",
      "\u001b[1;31mKeyboardInterrupt\u001b[0m: "
     ]
    }
   ],
   "source": [
    "class AddMinusMultiDivideByBit:\n",
    "    def add(self, a, b):\n",
    "        '''\n",
    "        如果用户传入的参数， a+b就是溢出的，用户活该\n",
    "        '''\n",
    "        sum_ = a\n",
    "        while b != 0:\n",
    "            sum_ = a ^ b  # 无进位相加的结果\n",
    "            b = (a & b) << 1 # 进位信息\n",
    "            a = sum_\n",
    "        return sum_\n",
    "    \n",
    "    def negNum(self, n):\n",
    "        return self.add(~n, 1)\n",
    "    \n",
    "    def minus(self, a, b):\n",
    "        print(a, 'minus', b)\n",
    "        return self.add(a, self.negNum(b))\n",
    "    \n",
    "    def multi(self, a, b):\n",
    "        res = 0\n",
    "        while b != 0:\n",
    "            if (b & 1) != 0:\n",
    "                res = self.add(res, a)\n",
    "            a <<= 1\n",
    "            b >>= 1 # 无符号右移 b >>>= 1\n",
    "        return res\n",
    "    \n",
    "    def isNeg(self, n):\n",
    "        return n < 0\n",
    "    \n",
    "    def div(self, a, b):\n",
    "        x = self.negNum(a) if self.isNeg(a) else a\n",
    "        y = self.negNum(b) if self.isNeg(b) else b\n",
    "        print(x, y)\n",
    "        res = 0\n",
    "        for i in range(31, -1, -1):\n",
    "            print('i', i)\n",
    "            if (x >> i) >= y: # 改成x右移而不是y左移，是为了避免溢出\n",
    "                res |= (1 << i)\n",
    "                x = self.minus(x, (y << i))\n",
    "                print(res, x)\n",
    "        return self.negNum(res) if self.isNeg(a) ^ self.isNeg(b) else res\n",
    "        \n",
    "    def divid(self, a, b):\n",
    "        if b == 0:\n",
    "            print('RuntimeException:divisor is 0')\n",
    "        if a == MIN_VALUE and b == MIN_VALUE:\n",
    "            return 1\n",
    "        elif b == MIN_VALUE:\n",
    "            return 0\n",
    "        elif a == MIN_VALUE:\n",
    "            res = self.div(self.add(a , 1), b)\n",
    "            return self.add(res, self.div(self.minus(a, self.multi(res, b)), b))\n",
    "    \n",
    "bybit = AddMinusMultiDivideByBit()\n",
    "print(bybit.negNum(3))\n",
    "print(bybit.add(60, 90))\n",
    "print(bybit.minus(60, 90))\n",
    "print(bybit.multi(3, 5))\n",
    "print(bybit.div(60, 5))"
   ]
  },
  {
   "cell_type": "code",
   "execution_count": 2,
   "metadata": {
    "ExecuteTime": {
     "end_time": "2023-03-16T02:43:12.511046Z",
     "start_time": "2023-03-16T02:43:12.494040Z"
    },
    "collapsed": true
   },
   "outputs": [
    {
     "data": {
      "text/plain": [
       "[31,\n",
       " 30,\n",
       " 29,\n",
       " 28,\n",
       " 27,\n",
       " 26,\n",
       " 25,\n",
       " 24,\n",
       " 23,\n",
       " 22,\n",
       " 21,\n",
       " 20,\n",
       " 19,\n",
       " 18,\n",
       " 17,\n",
       " 16,\n",
       " 15,\n",
       " 14,\n",
       " 13,\n",
       " 12,\n",
       " 11,\n",
       " 10,\n",
       " 9,\n",
       " 8,\n",
       " 7,\n",
       " 6,\n",
       " 5,\n",
       " 4,\n",
       " 3,\n",
       " 2,\n",
       " 1,\n",
       " 0]"
      ]
     },
     "execution_count": 2,
     "metadata": {},
     "output_type": "execute_result"
    }
   ],
   "source": [
    "list(range(31, -1, -1))"
   ]
  },
  {
   "cell_type": "markdown",
   "metadata": {},
   "source": [
    "### 从暴力递归到dp严格表结构"
   ]
  },
  {
   "cell_type": "markdown",
   "metadata": {},
   "source": [
    "![tu](zcy_algorithm_pictures2/Screenshot_20230306_102220_tv.danmaku.bili.jpg)"
   ]
  },
  {
   "cell_type": "markdown",
   "metadata": {},
   "source": [
    "#### 机器人游走\n",
    "![tu](zcy_algorithm_pictures2/Screenshot_20230306_102533_tv.danmaku.bili.jpg)\n",
    "![tu](zcy_algorithm_pictures2/Screenshot_20230306_102743_tv.danmaku.bili.jpg)"
   ]
  },
  {
   "cell_type": "code",
   "execution_count": 24,
   "metadata": {
    "ExecuteTime": {
     "end_time": "2023-03-16T07:12:45.869777Z",
     "start_time": "2023-03-16T07:12:45.860789Z"
    }
   },
   "outputs": [
    {
     "data": {
      "text/plain": [
       "27"
      ]
     },
     "execution_count": 24,
     "metadata": {},
     "output_type": "execute_result"
    }
   ],
   "source": [
    "def robotWalk(N, E, S, K):\n",
    "    return f1(N, E, K, S)\n",
    "\n",
    "def f1(N, E, rest, cur):\n",
    "    '''\n",
    "    一共是1——N这么多位置   固定参数\n",
    "    最终的目标是E 固定参数\n",
    "    还剩rest步需要走\n",
    "    当前在cur位置\n",
    "    返回方法数\n",
    "    '''\n",
    "    if rest == 0:\n",
    "        return 1 if cur == E else 0\n",
    "    if cur == 1:\n",
    "        return f1(N, E, rest - 1, 2)\n",
    "    if cur == N:\n",
    "        return f1(N, E, rest - 1, N - 1)\n",
    "    return f1(N, E, rest - 1, cur + 1) + f1(N, E, rest - 1, cur - 1)\n",
    "\n",
    "robotWalk(5, 3, 1, 8)"
   ]
  },
  {
   "cell_type": "code",
   "execution_count": 28,
   "metadata": {
    "ExecuteTime": {
     "end_time": "2023-03-16T07:15:31.414517Z",
     "start_time": "2023-03-16T07:15:31.401514Z"
    }
   },
   "outputs": [
    {
     "name": "stdout",
     "output_type": "stream",
     "text": [
      "8 1\n",
      "9 6\n"
     ]
    },
    {
     "data": {
      "text/plain": [
       "27"
      ]
     },
     "execution_count": 28,
     "metadata": {},
     "output_type": "execute_result"
    }
   ],
   "source": [
    "def robotWalk2(N, E, S, K):\n",
    "    dp = [[-1] * (N + 1)] * (K + 1)\n",
    "    return f2(N, E, K, S, dp)\n",
    "\n",
    "def f2(N, E, rest, cur, dp):\n",
    "    if dp[rest][cur] != -1:\n",
    "        return dp[rest][cur]\n",
    "    \n",
    "    if rest == 0:\n",
    "        dp[rest][cur] = 1 if rest == cur else 0\n",
    "        return dp[rest][cur]\n",
    "        \n",
    "    if cur == 1:\n",
    "        dp[rest][cur] = f1(N, E, rest - 1, 2)\n",
    "    elif cur == N:\n",
    "        dp[rest][cur] = f1(N, E, rest -1, N - 1)\n",
    "    else:\n",
    "        dp[rest][cur] = f1(N, E, rest - 1, 2) + f1(N, E, rest - 1, N - 1)\n",
    "    return dp[rest][cur]\n",
    "    \n",
    "robotWalk2(5, 3, 1, 8)"
   ]
  },
  {
   "cell_type": "markdown",
   "metadata": {},
   "source": [
    "![tu](zcy_algorithm_pictures2/Screenshot_20230306_111447_tv.danmaku.bili.jpg)\n",
    "![tu](zcy_algorithm_pictures2/Screenshot_20230306_111555_tv.danmaku.bili.jpg)"
   ]
  },
  {
   "cell_type": "code",
   "execution_count": 48,
   "metadata": {
    "ExecuteTime": {
     "end_time": "2023-03-16T07:44:09.255193Z",
     "start_time": "2023-03-16T07:44:09.236182Z"
    }
   },
   "outputs": [
    {
     "data": {
      "text/plain": [
       "27"
      ]
     },
     "execution_count": 48,
     "metadata": {},
     "output_type": "execute_result"
    }
   ],
   "source": [
    "def dpWay(N, E, S, K):\n",
    "    dp = [[-1] * (N + 1)] * (K + 1)\n",
    "    dp = [[-1] * (N + 1) for _ in range(K + 1)]\n",
    "    for i in range(1, N + 1):\n",
    "        dp[0][i] = 1 if i == E else 0\n",
    "    for rest in range(1, K + 1):\n",
    "        for cur in range(1, N + 1):\n",
    "            if cur == 1:\n",
    "                dp[rest][cur] = dp[rest - 1][2]\n",
    "            elif cur == N:\n",
    "                dp[rest][cur] = dp[rest - 1][N -1]\n",
    "            else:\n",
    "                dp[rest][cur] = dp[rest - 1][cur + 1] + dp[rest - 1][cur - 1]\n",
    "    return dp[K][S]\n",
    "\n",
    "dpWay(5, 3, 1, 8)"
   ]
  },
  {
   "cell_type": "markdown",
   "metadata": {},
   "source": [
    "#### 最少硬币数"
   ]
  },
  {
   "cell_type": "markdown",
   "metadata": {},
   "source": [
    "[2, 7, 3, 5, 3]正数，一枚。aim=10，那么7+3最少需要2枚硬币"
   ]
  },
  {
   "cell_type": "code",
   "execution_count": 2,
   "metadata": {
    "ExecuteTime": {
     "end_time": "2023-03-17T01:57:29.103378Z",
     "start_time": "2023-03-17T01:57:29.080360Z"
    }
   },
   "outputs": [
    {
     "data": {
      "text/plain": [
       "4"
      ]
     },
     "execution_count": 2,
     "metadata": {},
     "output_type": "execute_result"
    }
   ],
   "source": [
    "def coinsWays(aim: int, arr: list):\n",
    "    return f(0, 0, aim, arr)\n",
    "\n",
    "def f(idx, pre, aim, arr):\n",
    "    '''\n",
    "    arr 硬币都在其中，固定参数\n",
    "    aim： 最终要达成的目标，固定参数\n",
    "    如果自由选择arr[index......]些硬币，但是之前的硬币已经让你拥有了pre这么多的钱\n",
    "    返回最后能组成aim的方法数\n",
    "    '''\n",
    "    if idx == len(arr):\n",
    "        return 1 if pre == aim else 0\n",
    "    return f(idx + 1, pre, aim, arr) + f(idx + 1, pre + arr[idx], aim, arr)\n",
    "\n",
    "coinsWays(10, [2, 7, 3, 5, 3])"
   ]
  },
  {
   "cell_type": "code",
   "execution_count": 73,
   "metadata": {
    "ExecuteTime": {
     "end_time": "2023-03-17T02:33:07.717212Z",
     "start_time": "2023-03-17T02:33:07.705210Z"
    }
   },
   "outputs": [
    {
     "data": {
      "text/plain": [
       "2"
      ]
     },
     "execution_count": 73,
     "metadata": {},
     "output_type": "execute_result"
    }
   ],
   "source": [
    "def minCoins(arr, aim):\n",
    "    return process(arr, 0, aim)\n",
    "    \n",
    "def process(arr, idx, rest):\n",
    "    if rest < 0:\n",
    "        return -1\n",
    "    if rest == 0:\n",
    "        return 0\n",
    "    \n",
    "    # rest > 0\n",
    "    if idx == len(arr):\n",
    "        return -1\n",
    "    # rest > 0 并且也有硬币\n",
    "    p1 = process(arr, idx + 1, rest)\n",
    "    p2Next = process(arr, idx + 1, rest - arr[idx])\n",
    "    if p1 == -1 and p2Next == -1:\n",
    "        return -1\n",
    "    elif p1 == -1:\n",
    "        return p2Next + 1\n",
    "    elif p2Next == -1:\n",
    "        return p1\n",
    "    else:\n",
    "        return min(p1, p2Next + 1)\n",
    "    \n",
    "minCoins([2, 7, 3, 5, 3], 10)"
   ]
  },
  {
   "cell_type": "code",
   "execution_count": 80,
   "metadata": {
    "ExecuteTime": {
     "end_time": "2023-03-17T02:38:21.424430Z",
     "start_time": "2023-03-17T02:38:21.408926Z"
    }
   },
   "outputs": [
    {
     "data": {
      "text/plain": [
       "2"
      ]
     },
     "execution_count": 80,
     "metadata": {},
     "output_type": "execute_result"
    }
   ],
   "source": [
    "def minCoins2(arr: list, aim: int):\n",
    "    dp = [[-2] * (aim + 1) for _ in range(len(arr) + 1)]\n",
    "    return process2(arr, 0, aim, dp)\n",
    "\n",
    "def process2(arr, idx, rest, dp):\n",
    "    if rest < 0:\n",
    "        return -1\n",
    "    if dp[idx][rest] != -2:\n",
    "        return dp[idx][rest]\n",
    "    if rest == 0:\n",
    "        dp[idx][rest] = 0\n",
    "    elif idx == len(arr):\n",
    "        dp[idx][rest] = -1\n",
    "    else:\n",
    "        p1 = process2(arr, idx + 1, rest, dp)\n",
    "        p2Next = process2(arr, idx + 1, rest - arr[idx], dp)\n",
    "        if p1 == -1 and p2Next == -1:\n",
    "            dp[idx][rest] = -1\n",
    "        elif p1 == -1:\n",
    "            dp[idx][rest] = p2Next + 1\n",
    "        elif p2Next == -1:\n",
    "            dp[idx][rest] = p1\n",
    "        else:\n",
    "            dp[idx][rest] = min(p1, p2Next + 1)\n",
    "    return dp[idx][rest]\n",
    "\n",
    "minCoins2([2, 7, 3, 5, 3], 10)"
   ]
  },
  {
   "cell_type": "code",
   "execution_count": 87,
   "metadata": {
    "ExecuteTime": {
     "end_time": "2023-03-17T03:08:13.243417Z",
     "start_time": "2023-03-17T03:08:11.255682Z"
    }
   },
   "outputs": [],
   "source": [
    "import random\n",
    "def generateRandomArray(len_: int, max_: int):\n",
    "    return [int(random.random() * max_) + 1 for _ in range(len_)]\n",
    "\n",
    "Len = 10\n",
    "Max = 10\n",
    "testTime = 10000\n",
    "for i in range(testTime):\n",
    "    arr = generateRandomArray(Len, Max)\n",
    "    aim = int(random.random() * 3 * Max) + Max\n",
    "    if minCoins3(arr, aim) != minCoins2(arr, aim):\n",
    "        print('ooops!!!')\n",
    "        print(arr, aim)\n",
    "        print(minCoins3(arr, aim))\n",
    "        print(minCoins2(arr, aim))\n",
    "        break"
   ]
  },
  {
   "cell_type": "code",
   "execution_count": 86,
   "metadata": {
    "ExecuteTime": {
     "end_time": "2023-03-17T03:08:08.120567Z",
     "start_time": "2023-03-17T03:08:08.099549Z"
    }
   },
   "outputs": [
    {
     "data": {
      "text/plain": [
       "2"
      ]
     },
     "execution_count": 86,
     "metadata": {},
     "output_type": "execute_result"
    }
   ],
   "source": [
    "def minCoins3(arr, aim):\n",
    "    # dpWay\n",
    "    dp = [[-2] * (aim + 1) for _ in range(len(arr) + 1)]\n",
    "    for row in range(len(arr) + 1):\n",
    "        dp[row][0] = 0\n",
    "    for col in range(1, aim + 1):\n",
    "        dp[len(arr)][col] = -1\n",
    "    for row in range(len(arr) - 1, -1, -1):\n",
    "        for rest in range(1, aim + 1):\n",
    "            p1 = dp[row + 1][rest]\n",
    "            p2Next = -1\n",
    "            if rest - arr[row] >= 0:\n",
    "                p2Next = dp[row + 1][rest - arr[row]]\n",
    "            if p1 == -1 and p2Next == -1:\n",
    "                dp[row][rest] = -1\n",
    "            elif p1 == -1:\n",
    "                dp[row][rest] = p2Next + 1\n",
    "            elif p2Next == -1:\n",
    "                dp[row][rest] = p1\n",
    "            else:\n",
    "                dp[row][rest] = min(p1, p2Next + 1)\n",
    "    return dp[0][aim]\n",
    "\n",
    "minCoins3([2, 7, 3, 5, 3], 10)"
   ]
  },
  {
   "cell_type": "markdown",
   "metadata": {},
   "source": [
    "#### 纸牌游戏，先手后手"
   ]
  },
  {
   "cell_type": "code",
   "execution_count": 1,
   "metadata": {
    "ExecuteTime": {
     "end_time": "2023-03-20T01:33:27.208823Z",
     "start_time": "2023-03-20T01:33:27.197820Z"
    }
   },
   "outputs": [
    {
     "name": "stdout",
     "output_type": "stream",
     "text": [
      "101\n"
     ]
    }
   ],
   "source": [
    "def f(arr, i, j):\n",
    "    '''\n",
    "    先手函数\n",
    "    当前该你拿，arr[i..j]\n",
    "    返回你的最好分数\n",
    "    '''\n",
    "    if i == j:\n",
    "        return arr[i]\n",
    "    return max(arr[i] + s(arr, i + 1, j), arr[j] + s(arr, i, j - 1))\n",
    "\n",
    "def s(arr, i, j):\n",
    "    '''\n",
    "    后手函数\n",
    "    当前不该你拿，是对方在arr[i..j]范围上拿\n",
    "    返回你的最好分数\n",
    "    '''\n",
    "    if i == j:\n",
    "        return 0\n",
    "    return min(f(arr, i + 1, j), f(arr, i, j - 1))\n",
    "\n",
    "def win1(arr):\n",
    "    if len(arr) == 0:\n",
    "        return 0\n",
    "    return max(f(arr, 0, len(arr) - 1), s(arr, 0, len(arr) - 1))\n",
    "\n",
    "array = [1, 2, 100, 4]\n",
    "print(win1(array))"
   ]
  },
  {
   "cell_type": "markdown",
   "metadata": {},
   "source": [
    "![tu](zcy_algorithm_pictures2/Screenshot_20230310_103224_tv.danmaku.bili_edit_523296289575879.jpg)\n",
    "![tu](zcy_algorithm_pictures2/Screenshot_20230310_103430_tv.danmaku.bili.jpg)\n",
    "![tu](zcy_algorithm_pictures2/Screenshot_20230310_103629_tv.danmaku.bili.jpg)"
   ]
  },
  {
   "cell_type": "code",
   "execution_count": 4,
   "metadata": {
    "ExecuteTime": {
     "end_time": "2023-03-20T02:51:20.829417Z",
     "start_time": "2023-03-20T02:51:20.809424Z"
    }
   },
   "outputs": [
    {
     "name": "stdout",
     "output_type": "stream",
     "text": [
      "101\n"
     ]
    }
   ],
   "source": [
    "def dpWay(arr):\n",
    "    if len(arr) == 0:\n",
    "        return 0\n",
    "    f = [[0] * len(arr) for _ in range(len(arr))]\n",
    "    s = [[0] * len(arr) for _ in range(len(arr))]\n",
    "    for i in range(len(arr)):\n",
    "        f[i][i] = arr[i]\n",
    "    row = 0\n",
    "    col = 1\n",
    "    # 对角线位置row行 col列\n",
    "    while col < len(arr):\n",
    "        i = row\n",
    "        j = col\n",
    "        while i < len(arr) and j < len(arr):\n",
    "            f[i][j] = max(arr[i] + s[i + 1][j], arr[j] + s[i][j -1])\n",
    "            s[i][j] = min(f[i + 1][j], f[i][j - 1])\n",
    "            i += 1\n",
    "            j += 1\n",
    "        col += 1\n",
    "    return max(f[0][len(arr) - 1], s[0][len(arr) - 1])\n",
    "\n",
    "array = [1, 2, 100, 4]\n",
    "print(dpWay(array))"
   ]
  },
  {
   "cell_type": "markdown",
   "metadata": {},
   "source": [
    "#### 马步象棋\n",
    "马从00出发，一定要跳k步，跳到ab的方法数是多少？"
   ]
  },
  {
   "cell_type": "code",
   "execution_count": 14,
   "metadata": {
    "ExecuteTime": {
     "end_time": "2023-03-20T03:26:53.714293Z",
     "start_time": "2023-03-20T03:26:40.623137Z"
    }
   },
   "outputs": [
    {
     "name": "stdout",
     "output_type": "stream",
     "text": [
      "297410\n"
     ]
    }
   ],
   "source": [
    "def horseJump(x, y, k):\n",
    "    if x < 0 or y < 0 or x >=8 or y >=9:\n",
    "        return 0\n",
    "    if k == 0:\n",
    "        return 1 if x == 0 and y == 0 else 0\n",
    "    return horseJump(x - 1, y - 2, k - 1) + \\\n",
    "            horseJump(x - 1, y + 2, k - 1) + \\\n",
    "            horseJump(x + 1, y - 2, k - 1) + \\\n",
    "            horseJump(x + 1, y + 2, k - 1) + \\\n",
    "            horseJump(x - 2, y - 1, k - 1) + \\\n",
    "            horseJump(x - 2, y + 1, k - 1) + \\\n",
    "            horseJump(x + 2, y - 1, k - 1) + \\\n",
    "            horseJump(x + 2, y + 1, k - 1)\n",
    "\n",
    "\n",
    "x = 7\n",
    "y = 7\n",
    "step = 10\n",
    "print(horseJump(x, y, step))"
   ]
  },
  {
   "cell_type": "code",
   "execution_count": 15,
   "metadata": {
    "ExecuteTime": {
     "end_time": "2023-03-20T03:27:27.415650Z",
     "start_time": "2023-03-20T03:27:14.070639Z"
    }
   },
   "outputs": [
    {
     "name": "stdout",
     "output_type": "stream",
     "text": [
      "297410\n"
     ]
    }
   ],
   "source": [
    "def horseJump(x, y, k):\n",
    "    return process(x, y, k)\n",
    "\n",
    "def process(x, y, k):\n",
    "    if x < 0 or y < 0 or x >= 8 or y >= 9:\n",
    "        return 0\n",
    "    if k == 0:\n",
    "        return 1 if x == 0 and y == 0 else 0\n",
    "    return process(x - 1, y - 2, k - 1) + \\\n",
    "            process(x - 1, y + 2, k - 1) + \\\n",
    "            process(x + 1, y - 2, k - 1) + \\\n",
    "            process(x + 1, y + 2, k - 1) + \\\n",
    "            process(x - 2, y - 1, k - 1) + \\\n",
    "            process(x - 2, y + 1, k - 1) + \\\n",
    "            process(x + 2, y - 1, k - 1) + \\\n",
    "            process(x + 2, y + 1, k - 1)\n",
    "\n",
    "\n",
    "x = 7\n",
    "y = 7\n",
    "step = 10\n",
    "print(horseJump(x, y, step))"
   ]
  },
  {
   "cell_type": "code",
   "execution_count": 21,
   "metadata": {
    "ExecuteTime": {
     "end_time": "2023-03-20T03:30:13.109766Z",
     "start_time": "2023-03-20T03:30:13.085747Z"
    }
   },
   "outputs": [
    {
     "name": "stdout",
     "output_type": "stream",
     "text": [
      "297410\n"
     ]
    }
   ],
   "source": [
    "def dpWays(x, y, step):\n",
    "    if x < 0 or y < 0 or x >= 8 or y >= 9:\n",
    "        return 0\n",
    "    dp = [[[0] * 9 for _ in range(8)] for _ in range(step + 1) ]\n",
    "    dp[0][0][0] = 1\n",
    "    for h in range(1, step + 1):\n",
    "        for r in range(8):\n",
    "            for c in range(9):\n",
    "                dp[h][r][c] += getValue(dp, r - 1, c - 2, h - 1)\n",
    "                dp[h][r][c] += getValue(dp, r - 1, c + 2, h - 1)\n",
    "                dp[h][r][c] += getValue(dp, r + 1, c - 2, h - 1)\n",
    "                dp[h][r][c] += getValue(dp, r + 1, c + 2, h - 1)\n",
    "                dp[h][r][c] += getValue(dp, r - 2, c - 1, h - 1)\n",
    "                dp[h][r][c] += getValue(dp, r - 2, c + 1, h - 1)\n",
    "                dp[h][r][c] += getValue(dp, r + 2, c - 1, h - 1)\n",
    "                dp[h][r][c] += getValue(dp, r + 2, c + 1, h - 1)\n",
    "    return dp[step][x][y]\n",
    "\n",
    "def getValue(dp, row, col, step):\n",
    "    if row < 0 or col < 0 or row >= 8 or col >= 9:\n",
    "        return 0\n",
    "    return dp[step][row][col]\n",
    "\n",
    "x = 7\n",
    "y = 7\n",
    "step = 10\n",
    "print(dpWays(x, y, step))"
   ]
  },
  {
   "cell_type": "markdown",
   "metadata": {},
   "source": [
    "#### 贪吃蛇？\n",
    "5 * 6的格子，某人在ab位置，上下左右等概率，问走k步后活下来的概率是多少？"
   ]
  },
  {
   "cell_type": "code",
   "execution_count": null,
   "metadata": {},
   "outputs": [],
   "source": [
    "def bob(N, M, i, j, K):\n",
    "    '''\n",
    "    gcd = gcd(all_, live) 求最大公约数\n",
    "    return (live / gcd) / (all_ / gcd)\n",
    "    '''\n",
    "    all_ = pow(4, K)\n",
    "    live = process(N, M, i, j, K)\n",
    "    return live / all_\n",
    "\n",
    "def process(N, M, row, col, rest):\n",
    "    if row < 0 or col < 0 or row >= N or col >= M:\n",
    "        return 0\n",
    "    if rest == 0:\n",
    "        return 1\n",
    "    live += process(N, M, row - 1, col, rest - 1)\n",
    "    live += process(N, M, row + 1, col, rest - 1)\n",
    "    live += process(N, M, row, col - 1, rest - 1)\n",
    "    live += process(N, M, row, col + 1, rest - 1)\n",
    "    return live"
   ]
  },
  {
   "cell_type": "code",
   "execution_count": null,
   "metadata": {},
   "outputs": [],
   "source": []
  },
  {
   "cell_type": "markdown",
   "metadata": {},
   "source": [
    "#### 找硬币的方法数\n",
    "硬币可以用无限张，返回 找零的方法数。<br>\n",
    "面值[3, 5, 10, 2] 正数，无重复，任意张，aim=1000，方法数？？？<br><br>\n",
    "斜率优化，当我填表时如果有枚举行为，就利用观察的方式，看看我临近的位置能不能替代枚举行为。只和观察有关和原题意无关。<br><br>\n"
   ]
  },
  {
   "cell_type": "code",
   "execution_count": 18,
   "metadata": {
    "ExecuteTime": {
     "end_time": "2023-03-21T07:33:31.288901Z",
     "start_time": "2023-03-21T07:33:31.283912Z"
    }
   },
   "outputs": [
    {
     "name": "stdout",
     "output_type": "stream",
     "text": [
      "5\n"
     ]
    }
   ],
   "source": [
    "def coinsWays(arr, aim):\n",
    "    '''\n",
    "    arr里都是正数，没有重复值，每一个值代表一种货币，每一种都可以用无限张\n",
    "    最终要找零的钱是aim\n",
    "    返回找零的方法数\n",
    "    '''\n",
    "    return process(arr, 0, aim)\n",
    "\n",
    "def process(arr, idx, rest):\n",
    "    if idx == len(arr):\n",
    "        return 1 if rest == 0 else 0\n",
    "    ways = 0\n",
    "    Zh = int(rest / arr[idx]) + 1\n",
    "    for zhang in range(Zh):\n",
    "        ways += process(arr, idx + 1, rest - arr[idx] * zhang)\n",
    "    return ways\n",
    "\n",
    "arr = [3, 5, 10, 2]\n",
    "aim = 10\n",
    "print(coinsWays(arr, aim))"
   ]
  },
  {
   "cell_type": "markdown",
   "metadata": {},
   "source": [
    "![tu](zcy_algorithm_pictures2/Screenshot_20230310_153826_tv.danmaku.bili.jpg)\n",
    "![tu](zcy_algorithm_pictures2/Screenshot_20230310_154000_tv.danmaku.bili.jpg)\n",
    "![tu](zcy_algorithm_pictures2/Screenshot_20230310_154057_tv.danmaku.bili.jpg)\n",
    "![tu](zcy_algorithm_pictures2/Screenshot_20230310_154150_tv.danmaku.bili.jpg)"
   ]
  },
  {
   "cell_type": "code",
   "execution_count": 19,
   "metadata": {
    "ExecuteTime": {
     "end_time": "2023-03-21T07:33:34.910954Z",
     "start_time": "2023-03-21T07:33:34.890931Z"
    },
    "scrolled": true
   },
   "outputs": [
    {
     "name": "stdout",
     "output_type": "stream",
     "text": [
      "5\n"
     ]
    }
   ],
   "source": [
    "def dp1(arr, aim):\n",
    "    if len(arr) == 0:\n",
    "        return 0\n",
    "    N = len(arr)\n",
    "    dp = [[0] * (aim + 1) for _ in range(N + 1)]\n",
    "    dp[N][0] = 1\n",
    "    for row in range(N - 1, -1, -1):\n",
    "        for rest in range(aim + 1):\n",
    "            dp[row][rest] = dp[row + 1][rest]\n",
    "            zhang = 1\n",
    "            while arr[row] * zhang <= rest:\n",
    "                dp[row][rest] += dp[row + 1][rest - arr[row] * zhang]\n",
    "                zhang += 1\n",
    "    return dp[0][aim]\n",
    "\n",
    "arr = [3, 5, 10, 2]\n",
    "aim = 10\n",
    "print(dp1(arr, aim))"
   ]
  },
  {
   "cell_type": "markdown",
   "metadata": {},
   "source": [
    "![tu](zcy_algorithm_pictures2/Screenshot_20230317_153319_tv.danmaku.bili.jpg)"
   ]
  },
  {
   "cell_type": "code",
   "execution_count": 20,
   "metadata": {
    "ExecuteTime": {
     "end_time": "2023-03-21T07:33:39.298292Z",
     "start_time": "2023-03-21T07:33:39.291293Z"
    }
   },
   "outputs": [
    {
     "name": "stdout",
     "output_type": "stream",
     "text": [
      "5\n"
     ]
    }
   ],
   "source": [
    "def dp2(arr, aim):\n",
    "    if len(arr) == 0:\n",
    "        return 0\n",
    "    N = len(arr)\n",
    "    dp = [[0] * (aim + 1) for _ in range(N + 1)]\n",
    "    dp[N][0] = 1\n",
    "    for row in range(N - 1, -1, -1):\n",
    "        for rest in range(aim + 1):\n",
    "            dp[row][rest] = dp[row + 1][rest]\n",
    "            if rest - arr[row] >= 0:\n",
    "                dp[row][rest] += dp[row][rest - arr[row]]\n",
    "    return dp[0][aim]\n",
    "\n",
    "arr = [3, 5, 10, 2]\n",
    "aim = 10\n",
    "print(dp2(arr, aim))"
   ]
  },
  {
   "cell_type": "code",
   "execution_count": 26,
   "metadata": {
    "ExecuteTime": {
     "end_time": "2023-03-21T07:40:14.562758Z",
     "start_time": "2023-03-21T07:40:04.556089Z"
    }
   },
   "outputs": [],
   "source": [
    "import random\n",
    "\n",
    "def generateRandomArray(len_, max_):\n",
    "    arr = []\n",
    "    for i in range(len_):\n",
    "        arr.append(int(random.random() * max_) + 1)\n",
    "    return arr\n",
    "\n",
    "Len = 5\n",
    "Max = 10\n",
    "testTime = 10000\n",
    "for _ in range(testTime):\n",
    "    array = generateRandomArray(Len, Max)\n",
    "    aim = int(random.random() * 3 * Max) + Max\n",
    "    if (dp1(array, aim) != dp2(array, aim)) or (dp1(array, aim) != coinsWays(array, aim)):\n",
    "        print(array, aim)\n",
    "        break"
   ]
  },
  {
   "cell_type": "code",
   "execution_count": 22,
   "metadata": {
    "ExecuteTime": {
     "end_time": "2023-03-21T07:35:06.367866Z",
     "start_time": "2023-03-21T07:35:06.333651Z"
    }
   },
   "outputs": [
    {
     "name": "stdout",
     "output_type": "stream",
     "text": [
      "5629\n",
      "5629\n",
      "5629\n"
     ]
    }
   ],
   "source": [
    "array = [7, 3, 3, 1, 10, 6, 1, 10, 9, 1]\n",
    "aim = 22\n",
    "print(dp1(array, aim))\n",
    "print(dp2(array, aim))\n",
    "print(coinsWays(array, aim))"
   ]
  },
  {
   "cell_type": "markdown",
   "metadata": {},
   "source": [
    "### 何为具有平衡性的树？\n",
    "介绍树的左旋和右旋<br><br>\n",
    "有序表 O(logN)<br>\n",
    "红黑树 AVL SB(size balence) 跳表skiplist<br>\n",
    "红黑树 AVL：BST(balance search tree)平衡搜索二叉树<br><br>\n",
    "5,{A, B} 搜索二叉树是没有重复节点的，但是可以加数据项<br>"
   ]
  },
  {
   "cell_type": "markdown",
   "metadata": {},
   "source": [
    "#### 搜索二叉树的新增 查找 删除\n",
    "##### 删除：\n",
    "![tu](zcy_algorithm_pictures2/Screenshot_20230317_172257_tv.danmaku.bili_edit_153505201092201.jpg)\n",
    "![tu](zcy_algorithm_pictures2/Screenshot_20230317_172310_tv.danmaku.bili_edit_153441723189086.jpg)"
   ]
  },
  {
   "cell_type": "markdown",
   "metadata": {},
   "source": [
    "##### 左旋和右旋\n",
    "![tu](zcy_algorithm_pictures2/Screenshot_20230317_173624_tv.danmaku.bili_edit_154224251354071.jpg)\n",
    "![tu](zcy_algorithm_pictures2/Screenshot_20230320_145044_tv.danmaku.bili_edit_208784746787412.jpg)\n",
    "![tu](zcy_algorithm_pictures2/Screenshot_20230320_145244_tv.danmaku.bili.jpg)\n",
    "![tu](zcy_algorithm_pictures2/Screenshot_20230320_151236_tv.danmaku.bili_edit_210134677045019.jpg)\n",
    "![tu](zcy_algorithm_pictures2/Screenshot_20230320_151452_tv.danmaku.bili_edit_210219667466360.jpg)\n",
    "![tu](zcy_algorithm_pictures2/Screenshot_20230320_151656_tv.danmaku.bili_edit_210385799491335.jpg)\n",
    "![tu](zcy_algorithm_pictures2/Screenshot_20230320_152005_tv.danmaku.bili.jpg)\n"
   ]
  },
  {
   "cell_type": "markdown",
   "metadata": {},
   "source": [
    "##### 实现"
   ]
  },
  {
   "cell_type": "code",
   "execution_count": null,
   "metadata": {},
   "outputs": [],
   "source": [
    "def rebalance(node):\n",
    "    '''\n",
    "    AVL Node\n",
    "    '''\n",
    "    while node != None:\n",
    "        parent = node.parent\n",
    "        leftHeight = -1 if node.left == None else node.left.height\n",
    "        rightHeight = -1 if node.right == None else node.right.height\n",
    "        nodeBalence = rightHeight - leftHeight\n",
    "        if nodeBalence == 2:\n",
    "            if node.right.right != None:\n",
    "                node = avlRotateLeft(node)\n",
    "                break\n",
    "            else:\n",
    "                node = doubleRotateRightLeft(node)\n",
    "                break\n",
    "        elif nodeBalence == -2:\n",
    "            if node.left.left != None:\n",
    "                node = avlRotateRight(node)\n",
    "                break\n",
    "            else:\n",
    "                node = doubleRotateLeftRight(node)\n",
    "                break\n",
    "        else:\n",
    "            updateHeight(node)\n",
    "        \n",
    "        node = parent\n",
    "        \n",
    "def avlRotateLeft(node):\n",
    "    tmp = super.rotateLeft(node)\n",
    "    updateHeight(tmp.left)\n",
    "    updateHeight(tmp)\n",
    "    return tmp\n",
    "\n",
    "def avlRotateRight(node):\n",
    "    tmp = super.rotateRight(node)\n",
    "    updateHeight(tmp.right)\n",
    "    updateHeight(tmp)\n",
    "    return tmp"
   ]
  },
  {
   "cell_type": "markdown",
   "metadata": {},
   "source": [
    "#### 介绍SB树及其实现\n",
    "平衡性：<br>\n",
    "每棵子树的大小，不小于其兄弟的子树大小<br>\n",
    "即每棵叔叔树的大小，不小于其任何侄子树的大小<br>\n",
    "具体实现与调整细节<br>"
   ]
  },
  {
   "cell_type": "markdown",
   "metadata": {},
   "source": [
    "![tu](zcy_algorithm_pictures2/Screenshot_20230320_161651_tv.danmaku.bili.jpg)\n",
    "![tu](zcy_algorithm_pictures2/Screenshot_20230320_162321_tv.danmaku.bili_edit_214353291849063.jpg)\n",
    "![tu](zcy_algorithm_pictures2/Screenshot_20230320_162838_tv.danmaku.bili_edit_214821726019304.jpg)"
   ]
  },
  {
   "cell_type": "code",
   "execution_count": null,
   "metadata": {},
   "outputs": [],
   "source": [
    "# @see trees.AbstractBinarySearchTree#delete(int)\n",
    "@Override\n",
    "def delete(element):\n",
    "    deleteNode = super.search(element)\n",
    "    if deleteNode != None:\n",
    "        # 谁替代了删除节点，返回谁\n",
    "        successorNode = super.delete(deleteNode)\n",
    "        if successorNode != None:\n",
    "            # if replaced from getMinimum(deleteNode.right) then come back there and......\n",
    "            minimum = getMinimum(successorNode.right) if successorNode.right != None else successorNode\n",
    "            recomputeHeight(minimum)\n",
    "            rebalance(minimum)\n",
    "        else:\n",
    "            recomputeHeight(deleteNode.parent)\n",
    "            rebalance(deleteNode.parent)\n",
    "        return successorNode\n",
    "    return None\n",
    "\n",
    "# 如果出现不达标的情况，调整。\n",
    "def matain(cur):\n",
    "    if cur == None:\n",
    "        return None\n",
    "    if cur.l != None and cur.l.l != None and cur.r != None and cur.l.l.size > cur.r.size:\n",
    "        cur = rightRotate(cur)\n",
    "        cur.r = matain(cur.r)\n",
    "        cur = matain(cur)\n",
    "    elif cur.l != None and cur.l.r != None and cur.r != None and cur.l.r.size > cur.r.size:\n",
    "        cur.l = leftRotate(cur.l)\n",
    "        cur = rightRotate(cur)\n",
    "        cur.l = matain(cur.l)\n",
    "        cur.r = matain(cur.r)\n",
    "        cur = matain(cur)\n",
    "    elif cur.r != None and cur.r.r != None and cur.l != None and cur.r.r.size > cur.l.size:\n",
    "        cur = leftRotate(cur)\n",
    "        cur.l = matain(cur.l)\n",
    "        cur = matain(cur)\n",
    "    elif cur.r != None and cur.r.l != None and cur.l != None and cur.r.l.size > cur.l.size:\n",
    "        cur.r = rightRotate(cur.r)\n",
    "        cur = leftRotate(cur)\n",
    "        cur.l = matain(cur.l)\n",
    "        cur.r = matain(cur.r)\n",
    "        cur = matain(cur)\n",
    "    return cur"
   ]
  },
  {
   "cell_type": "markdown",
   "metadata": {},
   "source": [
    "#### 红黑树\n",
    "1）点红 or 黑<br>\n",
    "2）头（整） and 叶（子都是null）  黑<br>\n",
    "3）红点不相邻\n",
    "4）cur当前头，每条到叶子节点的路，黑的一样多<br><br>\n",
    "保证最长的路和最短的路最多相差两倍<br>\n",
    "最长的路是红黑交替，最短的路是全黑"
   ]
  },
  {
   "cell_type": "markdown",
   "metadata": {},
   "source": [
    "#### 跳表"
   ]
  },
  {
   "cell_type": "code",
   "execution_count": null,
   "metadata": {},
   "outputs": [],
   "source": [
    "![tu](zcy_algorithm_pictures2/Screenshot_20230323_101421_tv.danmaku.bili.jpg)\n",
    "![tu](zcy_algorithm_pictures2/Screenshot_20230323_101536_tv.danmaku.bili.jpg)"
   ]
  },
  {
   "cell_type": "code",
   "execution_count": null,
   "metadata": {},
   "outputs": [],
   "source": []
  },
  {
   "cell_type": "markdown",
   "metadata": {},
   "source": [
    "先熟悉经典的云平台（aws、阿里云）好用的技术工具，在线计算、大范围数据存储、高吞吐量的消息队列等门类非常多，选几个最热的，看这些工具为什么好，技术上是怎么做到这么好的，只是看文档，不用看code。--->建立经典产品的概念，学习技术概念，选5-6个，15天<br>\n",
    "找开源的对应产品，猛学，产品的实现原理，和同类的对比，适用的场景，它的环境。。。2个月，简单搭一下，用一下例子里提到的用法。<br>\n",
    "编业务<br>"
   ]
  },
  {
   "cell_type": "markdown",
   "metadata": {},
   "source": []
  },
  {
   "cell_type": "code",
   "execution_count": null,
   "metadata": {},
   "outputs": [],
   "source": [
    "![tu](zcy_algorithm_pictures2/.jpg)  <br>  #### "
   ]
  },
  {
   "cell_type": "code",
   "execution_count": null,
   "metadata": {},
   "outputs": [],
   "source": []
  },
  {
   "cell_type": "code",
   "execution_count": null,
   "metadata": {},
   "outputs": [],
   "source": []
  },
  {
   "cell_type": "code",
   "execution_count": null,
   "metadata": {},
   "outputs": [],
   "source": []
  },
  {
   "cell_type": "code",
   "execution_count": null,
   "metadata": {},
   "outputs": [],
   "source": []
  },
  {
   "cell_type": "code",
   "execution_count": null,
   "metadata": {},
   "outputs": [],
   "source": []
  },
  {
   "cell_type": "code",
   "execution_count": null,
   "metadata": {},
   "outputs": [],
   "source": []
  },
  {
   "cell_type": "code",
   "execution_count": null,
   "metadata": {},
   "outputs": [],
   "source": []
  }
 ],
 "metadata": {
  "kernelspec": {
   "display_name": "Python 3",
   "language": "python",
   "name": "python3"
  },
  "language_info": {
   "codemirror_mode": {
    "name": "ipython",
    "version": 3
   },
   "file_extension": ".py",
   "mimetype": "text/x-python",
   "name": "python",
   "nbconvert_exporter": "python",
   "pygments_lexer": "ipython3",
   "version": "3.8.5"
  },
  "toc": {
   "base_numbering": 1,
   "nav_menu": {},
   "number_sections": true,
   "sideBar": true,
   "skip_h1_title": false,
   "title_cell": "Table of Contents",
   "title_sidebar": "Contents",
   "toc_cell": false,
   "toc_position": {},
   "toc_section_display": true,
   "toc_window_display": true
  }
 },
 "nbformat": 4,
 "nbformat_minor": 4
}
